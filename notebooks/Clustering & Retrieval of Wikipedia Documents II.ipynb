{
 "cells": [
  {
   "cell_type": "markdown",
   "id": "98ab0bba",
   "metadata": {},
   "source": [
    "### Clustering & Retrieval of Wikipedia Documents \n",
    "\n",
    "When exploring a large set of documents -- such as Wikipedia, news articles, StackOverflow, etc. -- it can be useful to get a list of related material. Using the People Wikipedia data, you can find out nearest neighbors for various people based on their wikipedia information. To find relevant documents you typically decide on a notion of similarity and find the documents that are most similar. When properly executed, clustering uncovers valuable insights from a set of unlabeled documents. This notebook covers the following clustering algorithms:\n",
    "\n",
    "* Mixture Models\n",
    "* Latent Dirichlet Allocation (LDA)\n",
    "\n",
    "In the notebook you will:\n",
    "* Apply standard preprocessing techniques on Wikipedia text data\n",
    "* Using clustering methods to group Wikipedia documents\n",
    "* Gain intuition for different notions of similarity and practice finding similar documents. \n",
    "* Evaluate cluster performance\n",
    "* Explore and interpret the results, including topic keywords and topic assignments for documents"
   ]
  },
  {
   "cell_type": "code",
   "execution_count": 1,
   "id": "05a28901",
   "metadata": {},
   "outputs": [],
   "source": [
    "import matplotlib.pyplot as plt\n",
    "import numpy as np\n",
    "%matplotlib inline\n",
    "import pandas as pd"
   ]
  },
  {
   "cell_type": "markdown",
   "id": "c8777c67",
   "metadata": {},
   "source": [
    "## Import People Wikipedia Dataset"
   ]
  },
  {
   "cell_type": "code",
   "execution_count": 2,
   "id": "a3dd6e25",
   "metadata": {},
   "outputs": [],
   "source": [
    "wiki = pd.read_csv('../datasets/people_wiki.csv')"
   ]
  },
  {
   "cell_type": "code",
   "execution_count": 3,
   "id": "497e75b2",
   "metadata": {},
   "outputs": [
    {
     "data": {
      "text/html": [
       "<div>\n",
       "<style scoped>\n",
       "    .dataframe tbody tr th:only-of-type {\n",
       "        vertical-align: middle;\n",
       "    }\n",
       "\n",
       "    .dataframe tbody tr th {\n",
       "        vertical-align: top;\n",
       "    }\n",
       "\n",
       "    .dataframe thead th {\n",
       "        text-align: right;\n",
       "    }\n",
       "</style>\n",
       "<table border=\"1\" class=\"dataframe\">\n",
       "  <thead>\n",
       "    <tr style=\"text-align: right;\">\n",
       "      <th></th>\n",
       "      <th>URI</th>\n",
       "      <th>name</th>\n",
       "      <th>text</th>\n",
       "    </tr>\n",
       "  </thead>\n",
       "  <tbody>\n",
       "    <tr>\n",
       "      <th>0</th>\n",
       "      <td>&lt;http://dbpedia.org/resource/Digby_Morrell&gt;</td>\n",
       "      <td>Digby Morrell</td>\n",
       "      <td>digby morrell born 10 october 1979 is a former...</td>\n",
       "    </tr>\n",
       "    <tr>\n",
       "      <th>1</th>\n",
       "      <td>&lt;http://dbpedia.org/resource/Alfred_J._Lewy&gt;</td>\n",
       "      <td>Alfred J. Lewy</td>\n",
       "      <td>alfred j lewy aka sandy lewy graduated from un...</td>\n",
       "    </tr>\n",
       "    <tr>\n",
       "      <th>2</th>\n",
       "      <td>&lt;http://dbpedia.org/resource/Harpdog_Brown&gt;</td>\n",
       "      <td>Harpdog Brown</td>\n",
       "      <td>harpdog brown is a singer and harmonica player...</td>\n",
       "    </tr>\n",
       "    <tr>\n",
       "      <th>3</th>\n",
       "      <td>&lt;http://dbpedia.org/resource/Franz_Rottensteiner&gt;</td>\n",
       "      <td>Franz Rottensteiner</td>\n",
       "      <td>franz rottensteiner born in waidmannsfeld lowe...</td>\n",
       "    </tr>\n",
       "    <tr>\n",
       "      <th>4</th>\n",
       "      <td>&lt;http://dbpedia.org/resource/G-Enka&gt;</td>\n",
       "      <td>G-Enka</td>\n",
       "      <td>henry krvits born 30 december 1974 in tallinn ...</td>\n",
       "    </tr>\n",
       "    <tr>\n",
       "      <th>...</th>\n",
       "      <td>...</td>\n",
       "      <td>...</td>\n",
       "      <td>...</td>\n",
       "    </tr>\n",
       "    <tr>\n",
       "      <th>42781</th>\n",
       "      <td>&lt;http://dbpedia.org/resource/Motoaki_Takenouchi&gt;</td>\n",
       "      <td>Motoaki Takenouchi</td>\n",
       "      <td>motoaki takenouchi born july 8 1967 saitama pr...</td>\n",
       "    </tr>\n",
       "    <tr>\n",
       "      <th>42782</th>\n",
       "      <td>&lt;http://dbpedia.org/resource/Alan_Judge_(footb...</td>\n",
       "      <td>Alan Judge (footballer, born 1960)</td>\n",
       "      <td>alan graham judge born 14 may 1960 is a retire...</td>\n",
       "    </tr>\n",
       "    <tr>\n",
       "      <th>42783</th>\n",
       "      <td>&lt;http://dbpedia.org/resource/Eduardo_Lara&gt;</td>\n",
       "      <td>Eduardo Lara</td>\n",
       "      <td>eduardo lara lozano born 4 september 1959 in c...</td>\n",
       "    </tr>\n",
       "    <tr>\n",
       "      <th>42784</th>\n",
       "      <td>&lt;http://dbpedia.org/resource/Tatiana_Faberg%C3...</td>\n",
       "      <td>Tatiana Faberg%C3%A9</td>\n",
       "      <td>tatiana faberg is an author and faberg scholar...</td>\n",
       "    </tr>\n",
       "    <tr>\n",
       "      <th>42785</th>\n",
       "      <td>&lt;http://dbpedia.org/resource/Kenneth_Thomas&gt;</td>\n",
       "      <td>Kenneth Thomas</td>\n",
       "      <td>kenneth thomas born february 24 1938 was chief...</td>\n",
       "    </tr>\n",
       "  </tbody>\n",
       "</table>\n",
       "<p>42786 rows × 3 columns</p>\n",
       "</div>"
      ],
      "text/plain": [
       "                                                     URI  \\\n",
       "0            <http://dbpedia.org/resource/Digby_Morrell>   \n",
       "1           <http://dbpedia.org/resource/Alfred_J._Lewy>   \n",
       "2            <http://dbpedia.org/resource/Harpdog_Brown>   \n",
       "3      <http://dbpedia.org/resource/Franz_Rottensteiner>   \n",
       "4                   <http://dbpedia.org/resource/G-Enka>   \n",
       "...                                                  ...   \n",
       "42781   <http://dbpedia.org/resource/Motoaki_Takenouchi>   \n",
       "42782  <http://dbpedia.org/resource/Alan_Judge_(footb...   \n",
       "42783         <http://dbpedia.org/resource/Eduardo_Lara>   \n",
       "42784  <http://dbpedia.org/resource/Tatiana_Faberg%C3...   \n",
       "42785       <http://dbpedia.org/resource/Kenneth_Thomas>   \n",
       "\n",
       "                                     name  \\\n",
       "0                           Digby Morrell   \n",
       "1                          Alfred J. Lewy   \n",
       "2                           Harpdog Brown   \n",
       "3                     Franz Rottensteiner   \n",
       "4                                  G-Enka   \n",
       "...                                   ...   \n",
       "42781                  Motoaki Takenouchi   \n",
       "42782  Alan Judge (footballer, born 1960)   \n",
       "42783                        Eduardo Lara   \n",
       "42784                Tatiana Faberg%C3%A9   \n",
       "42785                      Kenneth Thomas   \n",
       "\n",
       "                                                    text  \n",
       "0      digby morrell born 10 october 1979 is a former...  \n",
       "1      alfred j lewy aka sandy lewy graduated from un...  \n",
       "2      harpdog brown is a singer and harmonica player...  \n",
       "3      franz rottensteiner born in waidmannsfeld lowe...  \n",
       "4      henry krvits born 30 december 1974 in tallinn ...  \n",
       "...                                                  ...  \n",
       "42781  motoaki takenouchi born july 8 1967 saitama pr...  \n",
       "42782  alan graham judge born 14 may 1960 is a retire...  \n",
       "42783  eduardo lara lozano born 4 september 1959 in c...  \n",
       "42784  tatiana faberg is an author and faberg scholar...  \n",
       "42785  kenneth thomas born february 24 1938 was chief...  \n",
       "\n",
       "[42786 rows x 3 columns]"
      ]
     },
     "execution_count": 3,
     "metadata": {},
     "output_type": "execute_result"
    }
   ],
   "source": [
    "wiki"
   ]
  },
  {
   "cell_type": "code",
   "execution_count": 4,
   "id": "d83c03ab",
   "metadata": {},
   "outputs": [
    {
     "name": "stdout",
     "output_type": "stream",
     "text": [
      "Number of categories: 0\n",
      "Average missing values per categories: 0.0\n",
      "Categories with top 3 missing values: []\n"
     ]
    }
   ],
   "source": [
    "top_n=3\n",
    "missing_column_counts = wiki[wiki.columns[wiki.isnull().any()]].isnull().sum()\n",
    "max_idxs = np.argsort(missing_column_counts.to_numpy())[::-1][:top_n]\n",
    "\n",
    "# Compute missing statistics\n",
    "num_categories = wiki.isna().any(axis=0).sum()\n",
    "average_per_category = wiki.isna().sum().sum()/len(wiki.columns)\n",
    "top_missing_categories = wiki.columns[max_idxs[:top_n]].to_numpy()\n",
    "\n",
    "print('Number of categories: {}'.format(num_categories))\n",
    "print('Average missing values per categories: {}'.format(average_per_category))\n",
    "print('Categories with top {} missing values: {}'.format(top_n,top_missing_categories))"
   ]
  },
  {
   "cell_type": "code",
   "execution_count": 5,
   "id": "e6358b2d",
   "metadata": {},
   "outputs": [
    {
     "name": "stdout",
     "output_type": "stream",
     "text": [
      "There are 42786 articles in the Wikipedia dataset\n"
     ]
    }
   ],
   "source": [
    "print('There are {} articles in the Wikipedia dataset'.format(len(wiki)))\n",
    "wiki = wiki[:1000] # explore first 1000 articles"
   ]
  },
  {
   "cell_type": "code",
   "execution_count": 6,
   "id": "70609ef2",
   "metadata": {},
   "outputs": [
    {
     "name": "stdout",
     "output_type": "stream",
     "text": [
      "kerr cuhulain is the pen name of canadian occult author and retired detective constable charles ennis a former child abuse investigator he is the author of several articles on child abuse investigation that appeared in law order magazine a former air force officer cuhulain was a police officer for over 28 years a police dispatcher for another 8 years and a wiccan for over forty hes served on the swat team gang crime unit and hostage negotiation teambetter known to the pagan community by his wiccan name kerr cuhulain ennis was the first wiccan police officer to go public about his beliefs 36 years ago he is the former preceptor general of officers of avalon a nonprofit benevolent association for pagan and wiccan law enforcement firefighting and emergency medical personnel and their families he is a frequent contributor to the witches voice networking website and has applied his abilities as an investigative journalist to the histories of several controversial individuals in the neopagan and new age communities such as john todd and michael warnke he speaks at writers conferences and pagan festivals throughout north americancuhulain lives in sechelt british columbia he founded an order of knighthood the order of paladins wwworderofpaladinscom he now also writes fantasy fiction as c a ennis and paranormal romance as carrie bryce\n"
     ]
    }
   ],
   "source": [
    "print(wiki['text'][269])"
   ]
  },
  {
   "cell_type": "markdown",
   "id": "43d96421",
   "metadata": {},
   "source": [
    "## Explore Wikipedia dataset"
   ]
  },
  {
   "cell_type": "markdown",
   "id": "bf28a6c2",
   "metadata": {},
   "source": [
    "### Descriptive Statistics\n",
    "- total_num_words: Total number of words\n",
    "- average_word_count: Average word count per articles\n",
    "- top_n_articles_most_words: Top n articles with most words\n",
    "- top_n_articles_least_words: Top n articles with and least words"
   ]
  },
  {
   "cell_type": "code",
   "execution_count": 7,
   "id": "f48d9537",
   "metadata": {},
   "outputs": [
    {
     "name": "stdout",
     "output_type": "stream",
     "text": [
      "0 articles have been removed from the dataset\n"
     ]
    }
   ],
   "source": [
    "# Drop Nans\n",
    "num_obs=len(wiki)\n",
    "wiki = wiki.dropna()\n",
    "print('{} articles have been removed from the dataset'.format(num_obs-len(wiki)))"
   ]
  },
  {
   "cell_type": "code",
   "execution_count": 8,
   "id": "c06ed7bb",
   "metadata": {},
   "outputs": [
    {
     "data": {
      "text/plain": [
       "URI     0\n",
       "name    0\n",
       "text    0\n",
       "dtype: int64"
      ]
     },
     "execution_count": 8,
     "metadata": {},
     "output_type": "execute_result"
    }
   ],
   "source": [
    "wiki.isna().sum()"
   ]
  },
  {
   "cell_type": "code",
   "execution_count": 9,
   "id": "d7cc923d",
   "metadata": {},
   "outputs": [],
   "source": [
    "top_n=3\n",
    "wiki['num_words'] = wiki['text'].apply(lambda sentence: len(sentence.split()))\n",
    "total_num_words = wiki['num_words'].sum()\n",
    "average_word_count = total_num_words / len(wiki)\n",
    "top_n_reviews_most_words = wiki.nlargest(top_n, 'num_words')['text']\n",
    "top_n_names_most_words = wiki.nlargest(top_n, 'num_words')['name']\n",
    "\n",
    "top_n_reviews_least_words = wiki.nsmallest(top_n, 'num_words')['text']\n",
    "top_n_names_least_words = wiki.nsmallest(top_n, 'num_words')['name']"
   ]
  },
  {
   "cell_type": "code",
   "execution_count": 10,
   "id": "040cce2f",
   "metadata": {},
   "outputs": [
    {
     "name": "stdout",
     "output_type": "stream",
     "text": [
      "Total number of words: 312223\n",
      "Average words per article: 312.223\n",
      "Top 3 articles with most words: ['John Donald (jewellery designer)', 'Davi Kopenawa Yanomami', 'Mary Fitzgerald (artist)']\n",
      "Top 3 articles with least words: ['G-Enka', 'Albert Apuzzi', 'Se%C3%A1n %C3%93g %C3%93 hAilp%C3%ADn']\n"
     ]
    }
   ],
   "source": [
    "print('Total number of words: {}'.format(total_num_words))\n",
    "print('Average words per article: {}'.format(average_word_count))\n",
    "print('Top {} articles with most words: {}'.format(top_n, [i for i in top_n_names_most_words]))\n",
    "print('Top {} articles with least words: {}'.format(top_n, [i for i in top_n_names_least_words]))"
   ]
  },
  {
   "cell_type": "markdown",
   "id": "0383ae64",
   "metadata": {},
   "source": [
    "### Remove unuseful articles"
   ]
  },
  {
   "cell_type": "code",
   "execution_count": 11,
   "id": "095038aa",
   "metadata": {},
   "outputs": [
    {
     "name": "stdout",
     "output_type": "stream",
     "text": [
      "One example of an useful article: ['sen g hailpn born 22 may 1977 is a fijianirish hurler and gaelic footballerin an intercounty playing career that spanned three decades hailpn played for the cork senior hurling and football teams winning major honours with both he also enjoyed much success with club side na piarsaigh and represented munster in the interprovincial championshipsafter starting his career as a hurler at minor level hailpn joined the cork senior hurling team in 1996 between then and 2012 he won three allireland medals five munster medals and one national hurling league medal hailpns threeyear career with the cork senior football team saw him win one munster medal and one national football league medalat club level hailpn is a twotime county hurling championship medalist with na piarsaigh hailpn has a number of personal achievements including three consecutive all star awards in 2004 he made a clean sweep of all the top individual awards winning the alln star texaco and gpa hurler of the year awards four years later in 2009 he was chosen on the munster team of the past twentyfive yearshis brothers setanta teu and aisake are also notable sportsmenin october 2013 hailpn released his autobiography called sean og o hailpin the autobiography']\n"
     ]
    }
   ],
   "source": [
    "keyword = 'Se%C3%A1n %C3%93g %C3%93 hAilp%C3%ADn'\n",
    "print('One example of an useful article: {}'.format([i for i in wiki[wiki['name']==keyword]['text']]))"
   ]
  },
  {
   "cell_type": "code",
   "execution_count": 12,
   "id": "c2b4e366",
   "metadata": {},
   "outputs": [
    {
     "data": {
      "text/html": [
       "<div>\n",
       "<style scoped>\n",
       "    .dataframe tbody tr th:only-of-type {\n",
       "        vertical-align: middle;\n",
       "    }\n",
       "\n",
       "    .dataframe tbody tr th {\n",
       "        vertical-align: top;\n",
       "    }\n",
       "\n",
       "    .dataframe thead th {\n",
       "        text-align: right;\n",
       "    }\n",
       "</style>\n",
       "<table border=\"1\" class=\"dataframe\">\n",
       "  <thead>\n",
       "    <tr style=\"text-align: right;\">\n",
       "      <th></th>\n",
       "      <th>index</th>\n",
       "      <th>URI</th>\n",
       "      <th>name</th>\n",
       "      <th>text</th>\n",
       "      <th>num_words</th>\n",
       "    </tr>\n",
       "  </thead>\n",
       "  <tbody>\n",
       "    <tr>\n",
       "      <th>0</th>\n",
       "      <td>0</td>\n",
       "      <td>&lt;http://dbpedia.org/resource/Digby_Morrell&gt;</td>\n",
       "      <td>Digby Morrell</td>\n",
       "      <td>digby morrell born 10 october 1979 is a former...</td>\n",
       "      <td>251</td>\n",
       "    </tr>\n",
       "    <tr>\n",
       "      <th>1</th>\n",
       "      <td>1</td>\n",
       "      <td>&lt;http://dbpedia.org/resource/Alfred_J._Lewy&gt;</td>\n",
       "      <td>Alfred J. Lewy</td>\n",
       "      <td>alfred j lewy aka sandy lewy graduated from un...</td>\n",
       "      <td>223</td>\n",
       "    </tr>\n",
       "    <tr>\n",
       "      <th>2</th>\n",
       "      <td>2</td>\n",
       "      <td>&lt;http://dbpedia.org/resource/Harpdog_Brown&gt;</td>\n",
       "      <td>Harpdog Brown</td>\n",
       "      <td>harpdog brown is a singer and harmonica player...</td>\n",
       "      <td>226</td>\n",
       "    </tr>\n",
       "    <tr>\n",
       "      <th>3</th>\n",
       "      <td>3</td>\n",
       "      <td>&lt;http://dbpedia.org/resource/Franz_Rottensteiner&gt;</td>\n",
       "      <td>Franz Rottensteiner</td>\n",
       "      <td>franz rottensteiner born in waidmannsfeld lowe...</td>\n",
       "      <td>377</td>\n",
       "    </tr>\n",
       "    <tr>\n",
       "      <th>4</th>\n",
       "      <td>4</td>\n",
       "      <td>&lt;http://dbpedia.org/resource/G-Enka&gt;</td>\n",
       "      <td>G-Enka</td>\n",
       "      <td>henry krvits born 30 december 1974 in tallinn ...</td>\n",
       "      <td>201</td>\n",
       "    </tr>\n",
       "    <tr>\n",
       "      <th>...</th>\n",
       "      <td>...</td>\n",
       "      <td>...</td>\n",
       "      <td>...</td>\n",
       "      <td>...</td>\n",
       "      <td>...</td>\n",
       "    </tr>\n",
       "    <tr>\n",
       "      <th>995</th>\n",
       "      <td>995</td>\n",
       "      <td>&lt;http://dbpedia.org/resource/Tantely_Andrianar...</td>\n",
       "      <td>Tantely Andrianarivo</td>\n",
       "      <td>ren tantely gabrio andrianarivo born 25 may 19...</td>\n",
       "      <td>508</td>\n",
       "    </tr>\n",
       "    <tr>\n",
       "      <th>996</th>\n",
       "      <td>996</td>\n",
       "      <td>&lt;http://dbpedia.org/resource/Terry_Wogan&gt;</td>\n",
       "      <td>Terry Wogan</td>\n",
       "      <td>sir michael terence terry wogan kbe dl born 3 ...</td>\n",
       "      <td>233</td>\n",
       "    </tr>\n",
       "    <tr>\n",
       "      <th>997</th>\n",
       "      <td>997</td>\n",
       "      <td>&lt;http://dbpedia.org/resource/Mike_LaValliere&gt;</td>\n",
       "      <td>Mike LaValliere</td>\n",
       "      <td>michael eugene mike lavalliere born august 18 ...</td>\n",
       "      <td>353</td>\n",
       "    </tr>\n",
       "    <tr>\n",
       "      <th>998</th>\n",
       "      <td>998</td>\n",
       "      <td>&lt;http://dbpedia.org/resource/Benjamin_Vogt_(po...</td>\n",
       "      <td>Benjamin Vogt (poet)</td>\n",
       "      <td>benjamin vogt is a poet and essayist from linc...</td>\n",
       "      <td>374</td>\n",
       "    </tr>\n",
       "    <tr>\n",
       "      <th>999</th>\n",
       "      <td>999</td>\n",
       "      <td>&lt;http://dbpedia.org/resource/Neil_Fallon&gt;</td>\n",
       "      <td>Neil Fallon</td>\n",
       "      <td>neil patrick fallon october 25 1971 in portsmo...</td>\n",
       "      <td>283</td>\n",
       "    </tr>\n",
       "  </tbody>\n",
       "</table>\n",
       "<p>1000 rows × 5 columns</p>\n",
       "</div>"
      ],
      "text/plain": [
       "     index                                                URI  \\\n",
       "0        0        <http://dbpedia.org/resource/Digby_Morrell>   \n",
       "1        1       <http://dbpedia.org/resource/Alfred_J._Lewy>   \n",
       "2        2        <http://dbpedia.org/resource/Harpdog_Brown>   \n",
       "3        3  <http://dbpedia.org/resource/Franz_Rottensteiner>   \n",
       "4        4               <http://dbpedia.org/resource/G-Enka>   \n",
       "..     ...                                                ...   \n",
       "995    995  <http://dbpedia.org/resource/Tantely_Andrianar...   \n",
       "996    996          <http://dbpedia.org/resource/Terry_Wogan>   \n",
       "997    997      <http://dbpedia.org/resource/Mike_LaValliere>   \n",
       "998    998  <http://dbpedia.org/resource/Benjamin_Vogt_(po...   \n",
       "999    999          <http://dbpedia.org/resource/Neil_Fallon>   \n",
       "\n",
       "                     name                                               text  \\\n",
       "0           Digby Morrell  digby morrell born 10 october 1979 is a former...   \n",
       "1          Alfred J. Lewy  alfred j lewy aka sandy lewy graduated from un...   \n",
       "2           Harpdog Brown  harpdog brown is a singer and harmonica player...   \n",
       "3     Franz Rottensteiner  franz rottensteiner born in waidmannsfeld lowe...   \n",
       "4                  G-Enka  henry krvits born 30 december 1974 in tallinn ...   \n",
       "..                    ...                                                ...   \n",
       "995  Tantely Andrianarivo  ren tantely gabrio andrianarivo born 25 may 19...   \n",
       "996           Terry Wogan  sir michael terence terry wogan kbe dl born 3 ...   \n",
       "997       Mike LaValliere  michael eugene mike lavalliere born august 18 ...   \n",
       "998  Benjamin Vogt (poet)  benjamin vogt is a poet and essayist from linc...   \n",
       "999           Neil Fallon  neil patrick fallon october 25 1971 in portsmo...   \n",
       "\n",
       "     num_words  \n",
       "0          251  \n",
       "1          223  \n",
       "2          226  \n",
       "3          377  \n",
       "4          201  \n",
       "..         ...  \n",
       "995        508  \n",
       "996        233  \n",
       "997        353  \n",
       "998        374  \n",
       "999        283  \n",
       "\n",
       "[1000 rows x 5 columns]"
      ]
     },
     "execution_count": 12,
     "metadata": {},
     "output_type": "execute_result"
    }
   ],
   "source": [
    "index_drop = wiki[(wiki['name'] >= keyword)].index\n",
    "wiki.drop(index_drop)# , inplace=True)\n",
    "wiki.reset_index()"
   ]
  },
  {
   "cell_type": "code",
   "execution_count": 13,
   "id": "224bd627",
   "metadata": {},
   "outputs": [
    {
     "name": "stdout",
     "output_type": "stream",
     "text": [
      "This array should be empty to show the keyword item was removed: Int64Index([  7,  10,  24,  25,  31,  36,  38,  40,  42,  46,\n",
      "            ...\n",
      "            952, 955, 965, 966, 967, 970, 974, 987, 995, 996],\n",
      "           dtype='int64', length=139)\n"
     ]
    }
   ],
   "source": [
    "index_drop = wiki[(wiki['name'] >= keyword)].index\n",
    "print('This array should be empty to show the keyword item was removed: {}'.format(index_drop))"
   ]
  },
  {
   "cell_type": "markdown",
   "id": "56b577f5",
   "metadata": {},
   "source": [
    "### Inspect articles with keyword search"
   ]
  },
  {
   "cell_type": "code",
   "execution_count": 14,
   "id": "5f30d882",
   "metadata": {},
   "outputs": [
    {
     "name": "stdout",
     "output_type": "stream",
     "text": [
      "Number of words in Digby Morrell article is 1479\n",
      "\n",
      "Digby Morrell article: ['digby morrell born 10 october 1979 is a former australian rules footballer who played with the kangaroos and carlton in the australian football league aflfrom western australia morrell played his early senior football for west perth his 44game senior career for the falcons spanned 19982000 and he was the clubs leading goalkicker in 2000 at the age of 21 morrell was recruited to the australian football league by the kangaroos football club with its third round selection in the 2001 afl rookie draft as a forward he twice kicked five goals during his time with the kangaroos the first was in a losing cause against sydney in 2002 and the other the following season in a drawn game against brisbaneafter the 2003 season morrell was traded along with david teague to the carlton football club in exchange for corey mckernan he played 32 games for the blues before being delisted at the end of 2005 he continued to play victorian football league vfl football with the northern bullants carltons vflaffiliate in 2006 and acted as playing assistant coach in 2007 in 2008 he shifted to the box hill hawks before retiring from playing at the end of the season from 2009 until 2013 morrell was the senior coach of the strathmore football club in the essendon district football league leading the club to the 2011 premier division premiership since 2014 he has coached the west coburg football club also in the edflhe currently teaches physical education at parade college in melbourne']\n"
     ]
    }
   ],
   "source": [
    "# Search by article name\n",
    "keyword = 'Digby Morrell'\n",
    "digby_morrell_text = wiki.loc[wiki['name']==keyword, 'text'].tolist()\n",
    "\n",
    "print('Number of words in {} article is {}\\n'.format(keyword,len(digby_morrell_text[0])))\n",
    "print('{} article: {}'.format(keyword,digby_morrell_text))"
   ]
  },
  {
   "cell_type": "markdown",
   "id": "f7ee8603",
   "metadata": {},
   "source": [
    "### Inspect article word counts with keyword search"
   ]
  },
  {
   "cell_type": "code",
   "execution_count": 15,
   "id": "dcedfb52",
   "metadata": {},
   "outputs": [],
   "source": [
    "from sklearn.feature_extraction.text import CountVectorizer\n",
    "\n",
    "keyword = 'Digby Morrell'\n",
    "keyword_text = wiki.loc[wiki['name']==keyword, 'text'].tolist()\n",
    "\n",
    "counter = CountVectorizer(stop_words='english')\n",
    "count_matrix =counter.fit_transform(keyword_text)\n",
    "features = counter.get_feature_names()\n",
    "\n",
    "# Create a series from the sparse matrix\n",
    "digby_counter = pd.Series(count_matrix.toarray().flatten(), \n",
    "              index = features).sort_values(ascending=False)"
   ]
  },
  {
   "cell_type": "markdown",
   "id": "36108b04",
   "metadata": {},
   "source": [
    "### Plot the most 50 frequent words in keyword in the article name without taking under consideration  the stopwords."
   ]
  },
  {
   "cell_type": "code",
   "execution_count": 16,
   "id": "547c13ac",
   "metadata": {},
   "outputs": [
    {
     "data": {
      "image/png": "[encoded data removed]",
      "text/plain": [
       "<Figure size 1296x576 with 1 Axes>"
      ]
     },
     "metadata": {
      "needs_background": "light"
     },
     "output_type": "display_data"
    }
   ],
   "source": [
    "bar_graph = digby_counter[:50].plot(kind='bar', \n",
    "                                        figsize=(18,8), \n",
    "                                        alpha=1, \n",
    "                                        fontsize=17, \n",
    "                                        rot=90,\n",
    "                                        edgecolor='black', \n",
    "                                        linewidth=2,\n",
    "                                        title=keyword+' Wikipedia Article Word Counts')\n",
    "bar_graph.set_xlabel('Words')\n",
    "bar_graph.set_ylabel('Occurrences')\n",
    "bar_graph.title.set_size(18)"
   ]
  },
  {
   "cell_type": "markdown",
   "id": "f4fc08d2",
   "metadata": {},
   "source": [
    "### Inspect article TF-IDF with keyword search"
   ]
  },
  {
   "cell_type": "code",
   "execution_count": 17,
   "id": "b8e80289",
   "metadata": {},
   "outputs": [],
   "source": [
    "from sklearn.feature_extraction.text import TfidfTransformer, TfidfVectorizer\n",
    "\n",
    "def plot_tf_idf_keyword(name, wiki):\n",
    "    #Apply this vectorizer to the full dataset to create normalized vectors\n",
    "    tfidf_vectorizer = TfidfVectorizer(min_df=5, max_df = 0.8, sublinear_tf=True, use_idf =True, stop_words = 'english')\n",
    "\n",
    "    #tfidf_vectorizer.fit: Learn vocabulary and idf from training set.\n",
    "    tfidf_matrix = tfidf_vectorizer.fit_transform(wiki.text.values)\n",
    "\n",
    "    #tfidf_vectorizer.get_feature_names(): Array mapping from feature integer indices to feature name\n",
    "    features = tfidf_vectorizer.get_feature_names()\n",
    "\n",
    "    #Get the row that belongs to name\n",
    "    row = wiki[wiki.name==name].index.tolist()[0]\n",
    "\n",
    "    #Create a series from the sparse matrix\n",
    "    clinton_matrix = pd.Series(tfidf_matrix.getrow(row).toarray().flatten(),index = features).sort_values(ascending=False)\n",
    "    tf_idf_plot = clinton_matrix[:20].plot(kind='bar', title= name+' Wikipedia Article Word TF-IDF Values',\n",
    "                figsize=(10,6), alpha=1, fontsize=14, rot=80,edgecolor='black', linewidth=2 )\n",
    "    tf_idf_plot.title.set_size(18)\n",
    "    tf_idf_plot.set_xlabel('WORDS')\n",
    "    tf_idf_plot.set_ylabel('TF-IDF')"
   ]
  },
  {
   "cell_type": "code",
   "execution_count": 18,
   "id": "01b3e734",
   "metadata": {},
   "outputs": [
    {
     "name": "stdout",
     "output_type": "stream",
     "text": [
      "0             Digby Morrell\n",
      "1            Alfred J. Lewy\n",
      "2             Harpdog Brown\n",
      "3       Franz Rottensteiner\n",
      "4                    G-Enka\n",
      "               ...         \n",
      "995    Tantely Andrianarivo\n",
      "996             Terry Wogan\n",
      "997         Mike LaValliere\n",
      "998    Benjamin Vogt (poet)\n",
      "999             Neil Fallon\n",
      "Name: name, Length: 1000, dtype: object\n"
     ]
    }
   ],
   "source": [
    "# Clusters y --> document name\n",
    "print(wiki['name'])"
   ]
  },
  {
   "cell_type": "code",
   "execution_count": 19,
   "id": "534e897b",
   "metadata": {},
   "outputs": [
    {
     "data": {
      "image/png": "[encoded data removed]",
      "text/plain": [
       "<Figure size 720x432 with 1 Axes>"
      ]
     },
     "metadata": {
      "needs_background": "light"
     },
     "output_type": "display_data"
    }
   ],
   "source": [
    "name = 'Digby Morrell'\n",
    "#name = 'Mike LaValliere'\n",
    "wiki_copy = wiki.copy()\n",
    "plot_tf_idf_keyword(name, wiki_copy)"
   ]
  },
  {
   "cell_type": "markdown",
   "id": "62a84686",
   "metadata": {},
   "source": [
    "## Extract word count vectors\n",
    "\n",
    "As we have seen in the 'Predicting Product sentiment' notebook."
   ]
  },
  {
   "cell_type": "code",
   "execution_count": 20,
   "id": "59c28acf",
   "metadata": {},
   "outputs": [],
   "source": [
    "import string \n",
    "def remove_punctuation(text):\n",
    "    try: # python 2.x\n",
    "        text = text.translate(None, string.punctuation) \n",
    "    except: # python 3.x\n",
    "        translator = text.maketrans('', '', string.punctuation)\n",
    "        text = text.translate(translator)\n",
    "    return text"
   ]
  },
  {
   "cell_type": "code",
   "execution_count": 21,
   "id": "2d1922df",
   "metadata": {},
   "outputs": [
    {
     "name": "stdout",
     "output_type": "stream",
     "text": [
      "0      digby morrell born 10 october 1979 is a former...\n",
      "1      alfred j lewy aka sandy lewy graduated from un...\n",
      "2      harpdog brown is a singer and harmonica player...\n",
      "3      franz rottensteiner born in waidmannsfeld lowe...\n",
      "4      henry krvits born 30 december 1974 in tallinn ...\n",
      "                             ...                        \n",
      "995    ren tantely gabrio andrianarivo born 25 may 19...\n",
      "996    sir michael terence terry wogan kbe dl born 3 ...\n",
      "997    michael eugene mike lavalliere born august 18 ...\n",
      "998    benjamin vogt is a poet and essayist from linc...\n",
      "999    neil patrick fallon october 25 1971 in portsmo...\n",
      "Name: text, Length: 1000, dtype: object\n"
     ]
    }
   ],
   "source": [
    "wiki['text'] = wiki['text'].apply(remove_punctuation)\n",
    "print(wiki['text'])"
   ]
  },
  {
   "cell_type": "code",
   "execution_count": 22,
   "id": "15e571b2",
   "metadata": {},
   "outputs": [],
   "source": [
    "# Word Count\n",
    "from sklearn.feature_extraction.text import CountVectorizer\n",
    "count_vect = CountVectorizer(analyzer='word',       \n",
    "                            min_df=10,                        # minimum reqd occurences of a word \n",
    "                            stop_words='english',             # remove stop words\n",
    "                            lowercase=True,                   # convert all words to lowercase\n",
    "                            token_pattern='[a-zA-Z0-9]{3,}',  # num chars > 3\n",
    "                            max_features=50000)             # max number of uniq words\n",
    "\n",
    "X_train_counts = count_vect.fit_transform(wiki['text'])\n",
    "\n",
    "word_count_df = pd.DataFrame(X_train_counts.toarray())\n",
    "word_count_df = word_count_df.add_prefix('word_count_')\n",
    "wiki = pd.concat([wiki, word_count_df], axis=1)"
   ]
  },
  {
   "cell_type": "code",
   "execution_count": 23,
   "id": "530653f1",
   "metadata": {},
   "outputs": [
    {
     "name": "stdout",
     "output_type": "stream",
     "text": [
      "Sparsicity:  3.3256442227763925 %\n"
     ]
    }
   ],
   "source": [
    "# Materialize the sparse data\n",
    "data_dense = X_train_counts.todense()\n",
    "\n",
    "# Compute Sparsicity = Percentage of Non-Zero cells\n",
    "print(\"Sparsicity: \", ((data_dense > 0).sum()/data_dense.size)*100, \"%\")"
   ]
  },
  {
   "cell_type": "code",
   "execution_count": 24,
   "id": "a527f1ae",
   "metadata": {},
   "outputs": [
    {
     "name": "stdout",
     "output_type": "stream",
     "text": [
      "                                                 URI                 name  \\\n",
      "0        <http://dbpedia.org/resource/Digby_Morrell>        Digby Morrell   \n",
      "1       <http://dbpedia.org/resource/Alfred_J._Lewy>       Alfred J. Lewy   \n",
      "2        <http://dbpedia.org/resource/Harpdog_Brown>        Harpdog Brown   \n",
      "3  <http://dbpedia.org/resource/Franz_Rottensteiner>  Franz Rottensteiner   \n",
      "4               <http://dbpedia.org/resource/G-Enka>               G-Enka   \n",
      "\n",
      "                                                text  num_words  word_count_0  \\\n",
      "0  digby morrell born 10 october 1979 is a former...        251             0   \n",
      "1  alfred j lewy aka sandy lewy graduated from un...        223             0   \n",
      "2  harpdog brown is a singer and harmonica player...        226             0   \n",
      "3  franz rottensteiner born in waidmannsfeld lowe...        377             0   \n",
      "4  henry krvits born 30 december 1974 in tallinn ...        201             0   \n",
      "\n",
      "   word_count_1  word_count_2  word_count_3  word_count_4  word_count_5  ...  \\\n",
      "0             0             0             0             0             0  ...   \n",
      "1             0             0             0             0             0  ...   \n",
      "2             0             0             0             0             0  ...   \n",
      "3             0             0             0             0             0  ...   \n",
      "4             0             0             0             0             0  ...   \n",
      "\n",
      "   tf_idf_word_count_33956  tf_idf_word_count_33957  tf_idf_word_count_33958  \\\n",
      "0                      0.0                      0.0                      0.0   \n",
      "1                      0.0                      0.0                      0.0   \n",
      "2                      0.0                      0.0                      0.0   \n",
      "3                      0.0                      0.0                      0.0   \n",
      "4                      0.0                      0.0                      0.0   \n",
      "\n",
      "   tf_idf_word_count_33959  tf_idf_word_count_33960  tf_idf_word_count_33961  \\\n",
      "0                      0.0                      0.0                      0.0   \n",
      "1                      0.0                      0.0                      0.0   \n",
      "2                      0.0                      0.0                      0.0   \n",
      "3                      0.0                      0.0                      0.0   \n",
      "4                      0.0                      0.0                      0.0   \n",
      "\n",
      "   tf_idf_word_count_33962  tf_idf_word_count_33963  tf_idf_word_count_33964  \\\n",
      "0                      0.0                      0.0                      0.0   \n",
      "1                      0.0                      0.0                      0.0   \n",
      "2                      0.0                      0.0                      0.0   \n",
      "3                      0.0                      0.0                      0.0   \n",
      "4                      0.0                      0.0                      0.0   \n",
      "\n",
      "   tf_idf_word_count_33965  \n",
      "0                      0.0  \n",
      "1                      0.0  \n",
      "2                      0.0  \n",
      "3                      0.0  \n",
      "4                      0.0  \n",
      "\n",
      "[5 rows x 36376 columns]\n"
     ]
    }
   ],
   "source": [
    "# TF-IDF\n",
    "from nltk.tokenize import RegexpTokenizer\n",
    "\n",
    "# Initialize regex tokenizer\n",
    "tokenizer = RegexpTokenizer(r'\\w+')\n",
    "\n",
    "# Vectorize document using TF-IDF\n",
    "vectorizer = TfidfVectorizer(lowercase=True,\n",
    "                        stop_words='english',\n",
    "                        ngram_range = (1,1),\n",
    "                        tokenizer = tokenizer.tokenize)\n",
    "\n",
    "X_train_tfidf = vectorizer.fit_transform(wiki['text'])\n",
    "\n",
    "tf_idf_word_count_df = pd.DataFrame(X_train_tfidf.toarray())\n",
    "tf_idf_word_count_df = tf_idf_word_count_df.add_prefix('tf_idf_word_count_')\n",
    "wiki = pd.concat([wiki, tf_idf_word_count_df], axis=1)\n",
    "\n",
    "# Build vocabulary of words\n",
    "word_vocabulary = vectorizer.get_feature_names()\n",
    "print(wiki.head())"
   ]
  },
  {
   "cell_type": "markdown",
   "id": "ba25091b",
   "metadata": {},
   "source": [
    "## Split data into training and test sets\n",
    "\n",
    "Let's perform a train/test split with 80% of the data in the training set and 20% of the data in the test set. We use seed=1 so that everyone gets the same result."
   ]
  },
  {
   "cell_type": "code",
   "execution_count": 25,
   "id": "b9874a1a",
   "metadata": {},
   "outputs": [
    {
     "name": "stdout",
     "output_type": "stream",
     "text": [
      "1000\n",
      "   word_count_0  word_count_1  word_count_2  word_count_3  word_count_4  \\\n",
      "0             0             0             0             0             0   \n",
      "1             0             0             0             0             0   \n",
      "2             0             0             0             0             0   \n",
      "3             0             0             0             0             0   \n",
      "4             0             0             0             0             0   \n",
      "\n",
      "   word_count_5  word_count_6  word_count_7  word_count_8  word_count_9  ...  \\\n",
      "0             0             0             0             0             0  ...   \n",
      "1             0             0             0             0             0  ...   \n",
      "2             0             0             0             0             0  ...   \n",
      "3             0             0             0             0             1  ...   \n",
      "4             0             0             0             0             0  ...   \n",
      "\n",
      "   word_count_2396  word_count_2397  word_count_2398  word_count_2399  \\\n",
      "0                0                0                0                0   \n",
      "1                0                0                0                0   \n",
      "2                0                1                1                0   \n",
      "3                0                1                3                1   \n",
      "4                0                2                0                0   \n",
      "\n",
      "   word_count_2400  word_count_2401  word_count_2402  word_count_2403  \\\n",
      "0                0                0                0                0   \n",
      "1                0                0                0                0   \n",
      "2                0                0                0                0   \n",
      "3                0                0                0                0   \n",
      "4                0                0                0                0   \n",
      "\n",
      "   word_count_2404  word_count_2405  \n",
      "0                0                0  \n",
      "1                0                0  \n",
      "2                0                0  \n",
      "3                0                0  \n",
      "4                0                0  \n",
      "\n",
      "[5 rows x 2406 columns]\n"
     ]
    }
   ],
   "source": [
    "from sklearn.model_selection import train_test_split\n",
    "\n",
    "X_word_count = wiki.loc[:, wiki.columns.str.startswith('word_count_')] # Use word count\n",
    "print(len(X_word_count))\n",
    "print(X_word_count.head())"
   ]
  },
  {
   "cell_type": "code",
   "execution_count": 26,
   "id": "4b82a879",
   "metadata": {},
   "outputs": [
    {
     "name": "stdout",
     "output_type": "stream",
     "text": [
      "TF-IDF encoded features:    tf_idf_word_count_0  tf_idf_word_count_1  tf_idf_word_count_2  \\\n",
      "0                  0.0                  0.0                  0.0   \n",
      "1                  0.0                  0.0                  0.0   \n",
      "2                  0.0                  0.0                  0.0   \n",
      "3                  0.0                  0.0                  0.0   \n",
      "4                  0.0                  0.0                  0.0   \n",
      "\n",
      "   tf_idf_word_count_3  tf_idf_word_count_4  tf_idf_word_count_5  \\\n",
      "0                  0.0                  0.0                  0.0   \n",
      "1                  0.0                  0.0                  0.0   \n",
      "2                  0.0                  0.0                  0.0   \n",
      "3                  0.0                  0.0                  0.0   \n",
      "4                  0.0                  0.0                  0.0   \n",
      "\n",
      "   tf_idf_word_count_6  tf_idf_word_count_7  tf_idf_word_count_8  \\\n",
      "0                  0.0                  0.0                  0.0   \n",
      "1                  0.0                  0.0                  0.0   \n",
      "2                  0.0                  0.0                  0.0   \n",
      "3                  0.0                  0.0                  0.0   \n",
      "4                  0.0                  0.0                  0.0   \n",
      "\n",
      "   tf_idf_word_count_9  ...  tf_idf_word_count_33956  tf_idf_word_count_33957  \\\n",
      "0                  0.0  ...                      0.0                      0.0   \n",
      "1                  0.0  ...                      0.0                      0.0   \n",
      "2                  0.0  ...                      0.0                      0.0   \n",
      "3                  0.0  ...                      0.0                      0.0   \n",
      "4                  0.0  ...                      0.0                      0.0   \n",
      "\n",
      "   tf_idf_word_count_33958  tf_idf_word_count_33959  tf_idf_word_count_33960  \\\n",
      "0                      0.0                      0.0                      0.0   \n",
      "1                      0.0                      0.0                      0.0   \n",
      "2                      0.0                      0.0                      0.0   \n",
      "3                      0.0                      0.0                      0.0   \n",
      "4                      0.0                      0.0                      0.0   \n",
      "\n",
      "   tf_idf_word_count_33961  tf_idf_word_count_33962  tf_idf_word_count_33963  \\\n",
      "0                      0.0                      0.0                      0.0   \n",
      "1                      0.0                      0.0                      0.0   \n",
      "2                      0.0                      0.0                      0.0   \n",
      "3                      0.0                      0.0                      0.0   \n",
      "4                      0.0                      0.0                      0.0   \n",
      "\n",
      "   tf_idf_word_count_33964  tf_idf_word_count_33965  \n",
      "0                      0.0                      0.0  \n",
      "1                      0.0                      0.0  \n",
      "2                      0.0                      0.0  \n",
      "3                      0.0                      0.0  \n",
      "4                      0.0                      0.0  \n",
      "\n",
      "[5 rows x 33966 columns]\n",
      "Integer encoded cluster names\n"
     ]
    }
   ],
   "source": [
    "# TF-IDF encode words form documents\n",
    "X_tfidf = wiki.loc[:, wiki.columns.str.startswith('tf_idf_word_count_')] # Use tf-idf\n",
    "print('TF-IDF encoded features: {}'.format(X_tfidf.head()))\n",
    "\n",
    "# Integer Encode cluster names\n",
    "from sklearn.preprocessing import OrdinalEncoder\n",
    "\n",
    "ord_enc = OrdinalEncoder()\n",
    "wiki['y'] = ord_enc.fit_transform(wiki[[\"name\"]])\n",
    "y = wiki['y']\n",
    "print('Integer encoded cluster names'.format(wiki[[\"name\", 'y']].head(11)))"
   ]
  },
  {
   "cell_type": "markdown",
   "id": "b2eabe87",
   "metadata": {},
   "source": [
    "# Gaussian mixture models\n",
    "\n",
    "We have explored k-means clustering for a high-dimensional Wikipedia dataset. We can also model this data with a mixture of Gaussians, though with increasing dimension we run into two important issues associated with using a full covariance matrix for each component.\n",
    "\n",
    "Both of these issues are avoided if we require the covariance matrix of each component to be diagonal, as then it has only M parameters to fit and the score computation decomposes into M univariate score calculations. Recall from the lecture that the M-step for the full covariance is:\n",
    "\n",
    "\\begin{align*}\n",
    "\\hat{\\Sigma}_k &= \\frac{1}{N_k^{soft}} \\sum_{i=1}^N r_{ik} (x_i-\\hat{\\mu}_k)(x_i - \\hat{\\mu}_k)^T\n",
    "\\end{align*}\n",
    "\n",
    "Note that this is a square matrix with M rows and M columns, and the above equation implies that the (v, w) element is computed by\n",
    "\n",
    "\\begin{align*}\n",
    "\\hat{\\Sigma}_{k, v, w} &= \\frac{1}{N_k^{soft}} \\sum_{i=1}^N r_{ik} (x_{iv}-\\hat{\\mu}_{kv})(x_{iw} - \\hat{\\mu}_{kw})\n",
    "\\end{align*}\n",
    "\n",
    "When we assume that this is a diagonal matrix, then non-diagonal elements are assumed to be zero and we only need to compute each of the M elements along the diagonal independently using the following equation. \n",
    "\n",
    "\\begin{align*}\n",
    "\\hat{\\sigma}^2_{k, v} &= \\hat{\\Sigma}_{k, v, v}  \\\\\n",
    "&= \\frac{1}{N_k^{soft}} \\sum_{i=1}^N r_{ik} (x_{iv}-\\hat{\\mu}_{kv})^2\n",
    "\\end{align*}\n",
    "\n",
    "In this section, we will use an EM implementation to fit a Gaussian mixture model with **diagonal** covariances to a subset of the Wikipedia dataset. The implementation uses the above equation to compute each variance term. \n",
    "\n",
    "We'll begin by importing the dataset and coming up with a useful representation for each article. After running our algorithm on the data, we will explore the output to see whether we can give a meaningful interpretation to the fitted parameters in our model."
   ]
  },
  {
   "cell_type": "markdown",
   "id": "054e0c83",
   "metadata": {},
   "source": [
    "This section on Mixture Models covers:\n",
    " * Computational cost becomes prohibitive in high dimensions: score calculations have complexity cubic in the number of dimensions M if the Gaussian has a full covariance matrix.\n",
    " * A model with many parameters require more data: observe that a full covariance matrix for an M-dimensional Gaussian will have M(M+1)/2 parameters to fit. With the number of parameters growing roughly as the square of the dimension, it may quickly become impossible to find a sufficient amount of data to make good inferences."
   ]
  },
  {
   "cell_type": "markdown",
   "id": "6166712d",
   "metadata": {},
   "source": [
    "Mixture Model Parameters\n",
    "* n_components (int): The number of mixture components; default=1\n",
    "* covariance_type: String describing the type of covariance parameters to use; default=’full’\n",
    "     - ‘full’: each component has its own general covariance matrix.\n",
    "     - ‘tied’: all components share the same general covariance matrix.\n",
    "     - ‘diag’: each component has its own diagonal covariance matrix.\n",
    "     - ‘spherical’: each component has its own single variance.\n",
    "* tol (float):  convergence threshold. EM iterations will stop when the lower bound average gain is below this threshold; default=1e-3\n",
    "* reg_covar (float): Non-negative regularization added to the diagonal of covariance. Allows to assure that the covariance matrices are all positive; default=1e-6\n",
    "* max_iterint: The number of EM iterations to perform; default=100\n",
    "* n_init (int): number of initializations to perform. The best results are kept; default=1\n",
    "* init_params: The method used to initialize the weights, the means and the precisions. default=’kmeans’. String must be one of:\n",
    "     - ‘kmeans’ : responsibilities are initialized using kmeans.\n",
    "     - ‘k-means++’ : use the k-means++ method to initialize.\n",
    "     - ‘random’ : responsibilities are initialized randomly.\n",
    "     - ‘random_from_data’ : initial means are randomly selected data points.\n",
    "* random_state (int): controls the random seed given to the method chosen to initialize the parameters; default=None"
   ]
  },
  {
   "cell_type": "code",
   "execution_count": 27,
   "id": "7b4063b6",
   "metadata": {},
   "outputs": [],
   "source": [
    "# Set parameters\n",
    "n_components=6\n",
    "random_state=42\n",
    "num_obs=10 #len(X_tfidf)"
   ]
  },
  {
   "cell_type": "markdown",
   "id": "a9d5fcb9",
   "metadata": {},
   "source": [
    "Train mixture model"
   ]
  },
  {
   "cell_type": "code",
   "execution_count": 28,
   "id": "cf2ea49b",
   "metadata": {},
   "outputs": [],
   "source": [
    "from sklearn.mixture import GaussianMixture\n",
    "\n",
    "gmm = GaussianMixture(n_components=n_components, \n",
    "                      random_state=random_state, \n",
    "                      covariance_type='diag').fit(X_tfidf[:num_obs])"
   ]
  },
  {
   "cell_type": "code",
   "execution_count": 29,
   "id": "1e41c4ed",
   "metadata": {},
   "outputs": [
    {
     "name": "stdout",
     "output_type": "stream",
     "text": [
      "[[0. 0. 0. ... 0. 0. 0.]\n",
      " [0. 0. 0. ... 0. 0. 0.]\n",
      " [0. 0. 0. ... 0. 0. 0.]\n",
      " [0. 0. 0. ... 0. 0. 0.]\n",
      " [0. 0. 0. ... 0. 0. 0.]\n",
      " [0. 0. 0. ... 0. 0. 0.]]\n"
     ]
    }
   ],
   "source": [
    "print(gmm.means_)"
   ]
  },
  {
   "cell_type": "markdown",
   "id": "5cabe820",
   "metadata": {},
   "source": [
    "Assign every data point to one of the clusters using gmm.predict"
   ]
  },
  {
   "cell_type": "code",
   "execution_count": 30,
   "id": "8d4afeab",
   "metadata": {},
   "outputs": [
    {
     "data": {
      "text/plain": [
       "array([2, 3, 1, 1, 0, 4, 0, 1, 0, 5])"
      ]
     },
     "execution_count": 30,
     "metadata": {},
     "output_type": "execute_result"
    }
   ],
   "source": [
    "gmm_clusters = gmm.predict(X_tfidf[:num_obs])\n",
    "gmm_clusters"
   ]
  },
  {
   "cell_type": "markdown",
   "id": "4fbd5fab",
   "metadata": {},
   "source": [
    "Find probabilities that a data point belongs to each of the K clusters"
   ]
  },
  {
   "cell_type": "code",
   "execution_count": 31,
   "id": "5077ed66",
   "metadata": {},
   "outputs": [
    {
     "data": {
      "text/plain": [
       "array([[0., 0., 1., 0., 0., 0.],\n",
       "       [0., 0., 0., 1., 0., 0.],\n",
       "       [0., 1., 0., 0., 0., 0.],\n",
       "       [0., 1., 0., 0., 0., 0.],\n",
       "       [1., 0., 0., 0., 0., 0.],\n",
       "       [0., 0., 0., 0., 1., 0.],\n",
       "       [1., 0., 0., 0., 0., 0.],\n",
       "       [0., 1., 0., 0., 0., 0.],\n",
       "       [1., 0., 0., 0., 0., 0.],\n",
       "       [0., 0., 0., 0., 0., 1.]])"
      ]
     },
     "execution_count": 31,
     "metadata": {},
     "output_type": "execute_result"
    }
   ],
   "source": [
    "gmm_prob = gmm.predict_proba(X_tfidf[:num_obs])\n",
    "gmm_prob"
   ]
  },
  {
   "cell_type": "markdown",
   "id": "46c9b686",
   "metadata": {},
   "source": [
    "Find GMM covariances"
   ]
  },
  {
   "cell_type": "code",
   "execution_count": 32,
   "id": "2a8ef42e",
   "metadata": {},
   "outputs": [
    {
     "data": {
      "text/plain": [
       "array([[1.e-06, 1.e-06, 1.e-06, ..., 1.e-06, 1.e-06, 1.e-06],\n",
       "       [1.e-06, 1.e-06, 1.e-06, ..., 1.e-06, 1.e-06, 1.e-06],\n",
       "       [1.e-06, 1.e-06, 1.e-06, ..., 1.e-06, 1.e-06, 1.e-06],\n",
       "       [1.e-06, 1.e-06, 1.e-06, ..., 1.e-06, 1.e-06, 1.e-06],\n",
       "       [1.e-06, 1.e-06, 1.e-06, ..., 1.e-06, 1.e-06, 1.e-06],\n",
       "       [1.e-06, 1.e-06, 1.e-06, ..., 1.e-06, 1.e-06, 1.e-06]])"
      ]
     },
     "execution_count": 32,
     "metadata": {},
     "output_type": "execute_result"
    }
   ],
   "source": [
    "gmm_covariances = gmm.covariances_\n",
    "gmm_covariances"
   ]
  },
  {
   "cell_type": "markdown",
   "id": "0e5d56b6",
   "metadata": {},
   "source": [
    "# Evaluating GMMs\n",
    "\n",
    "The best way to find an best cluster number is to try different cluster numbers and see which fits your data appropriately. The two most popular evaluation metrics for picking cluster numbers for fitting Gaussian Mixture models are Akaike information criterion (AIC) and Bayesian information criterion (BIC).  The intuition in the calculation of both of these metrics is that they favor the simplest model that maximize the likelihood function of the model."
   ]
  },
  {
   "cell_type": "code",
   "execution_count": 33,
   "id": "1a9452f0",
   "metadata": {},
   "outputs": [
    {
     "name": "stdout",
     "output_type": "stream",
     "text": [
      "best fit converged: True\n",
      "best fit converged: True\n"
     ]
    }
   ],
   "source": [
    "# Impact of covariance\n",
    "def compute_GaussianMixture(X, n_components, max_iter=100):\n",
    "    covariance_types = ['diag','spherical'] #removing 'tied' and 'full' --> lon runtime\n",
    "    models = [None for n in covariance_types]\n",
    "    for i, covariance_type in enumerate(covariance_types):\n",
    "        models[i] = GaussianMixture(n_components=n_components, max_iter=max_iter,\n",
    "                                    covariance_type=covariance_type)\n",
    "        models[i].fit(X)\n",
    "    return models\n",
    "\n",
    "models = compute_GaussianMixture(X_tfidf, 13)\n",
    "\n",
    "AIC = [m.aic(X_tfidf) for m in models]\n",
    "BIC = [m.bic(X_tfidf) for m in models]\n",
    "\n",
    "i_best = np.argmin(AIC)\n",
    "gmm_best = models[i_best]\n",
    "print(\"best fit converged:\", gmm_best.converged_)\n",
    "\n",
    "i_best = np.argmin(BIC)\n",
    "gmm_best = models[i_best]\n",
    "print(\"best fit converged:\", gmm_best.converged_)"
   ]
  },
  {
   "cell_type": "markdown",
   "id": "010a851a",
   "metadata": {},
   "source": [
    "# Find the best GMM \n",
    "\n",
    "Use scoring systems for model comparisons in statistics dealing with models with different numbers of parameters."
   ]
  },
  {
   "cell_type": "markdown",
   "id": "6092d4ad",
   "metadata": {},
   "source": [
    "Akaike information criterion (AIC): Akaike information criterion for the current model on the input X. (lower is better) \n"
   ]
  },
  {
   "cell_type": "code",
   "execution_count": 34,
   "id": "20ea039d",
   "metadata": {},
   "outputs": [
    {
     "data": {
      "text/plain": [
       "-3233075.4476941824"
      ]
     },
     "execution_count": 34,
     "metadata": {},
     "output_type": "execute_result"
    }
   ],
   "source": [
    "gmm.aic(X_tfidf[:num_obs])"
   ]
  },
  {
   "cell_type": "markdown",
   "id": "0064b8e5",
   "metadata": {},
   "source": [
    "Bayesian information criterion (BIC): Bayesian information criterion for the current model on the input X. (lower is better) \n"
   ]
  },
  {
   "cell_type": "code",
   "execution_count": 35,
   "id": "4b3fe50d",
   "metadata": {},
   "outputs": [
    {
     "data": {
      "text/plain": [
       "-3109742.6715450883"
      ]
     },
     "execution_count": 35,
     "metadata": {},
     "output_type": "execute_result"
    }
   ],
   "source": [
    "gmm.bic(X_tfidf[:num_obs])"
   ]
  },
  {
   "cell_type": "markdown",
   "id": "1de3f17c",
   "metadata": {},
   "source": [
    "Calculate the AIC and BIC is by setting up a loop to try different cluster numbers and calculate the AIC and BIC, you can then plot the metrics together to pick the cluster number."
   ]
  },
  {
   "cell_type": "code",
   "execution_count": 36,
   "id": "00314e1e",
   "metadata": {},
   "outputs": [
    {
     "name": "stdout",
     "output_type": "stream",
     "text": [
      "best fit converged: True\n",
      "AIC: n_components =  13\n",
      "best fit converged: True\n",
      "BIC: n_components =  13\n"
     ]
    }
   ],
   "source": [
    "N = np.arange(1, 14)\n",
    "\n",
    "def compute_GaussianMixture(X, N, covariance_type='diag', max_iter=100):\n",
    "    models = [None for n in N]\n",
    "    for i in range(len(N)):\n",
    "        models[i] = GaussianMixture(n_components=N[i], max_iter=max_iter,\n",
    "                                    covariance_type=covariance_type)\n",
    "        models[i].fit(X)\n",
    "    return models\n",
    "\n",
    "models = compute_GaussianMixture(X_tfidf, N)\n",
    "\n",
    "AIC = [m.aic(X_tfidf) for m in models]\n",
    "BIC = [m.bic(X_tfidf) for m in models]\n",
    "\n",
    "i_best = np.argmin(AIC)\n",
    "gmm_best = models[i_best]\n",
    "print(\"best fit converged:\", gmm_best.converged_)\n",
    "print(\"AIC: n_components =  %i\" % N[i_best])\n",
    "\n",
    "i_best = np.argmin(BIC)\n",
    "gmm_best = models[i_best]\n",
    "print(\"best fit converged:\", gmm_best.converged_)\n",
    "print(\"BIC: n_components =  %i\" % N[i_best])"
   ]
  },
  {
   "cell_type": "code",
   "execution_count": 37,
   "id": "89f905f5",
   "metadata": {},
   "outputs": [
    {
     "data": {
      "text/plain": [
       "Text(0.5, 1.0, 'BIC and AIC Scores Per Number Of Clusters')"
      ]
     },
     "execution_count": 37,
     "metadata": {},
     "output_type": "execute_result"
    },
    {
     "data": {
      "image/png": "[encoded data removed]",
      "text/plain": [
       "<Figure size 864x576 with 1 Axes>"
      ]
     },
     "metadata": {
      "needs_background": "light"
     },
     "output_type": "display_data"
    }
   ],
   "source": [
    "# Plot the BIC and AIC values together\n",
    "fig, ax = plt.subplots(figsize=(12,8),nrows=1)\n",
    "ax.plot(N, BIC, '-o', color='blue', label='BIC')\n",
    "ax.plot(N, AIC, '-o', color='green', label='AIC')\n",
    "ax.set(xlabel='Number of Clusters', ylabel='Score')\n",
    "ax.set_xticks(N)\n",
    "ax.legend()\n",
    "ax.set_title('BIC and AIC Scores Per Number Of Clusters')"
   ]
  },
  {
   "cell_type": "markdown",
   "id": "0491b4c6",
   "metadata": {},
   "source": [
    "We can see that AIC and BIC are similar but at 13 clusters, BIC > AIC at 13 clusters.The two measures will usually pick the same number for clusters, but if they differ then know that BIC more heavily favors simple models than AIC. AIC models tend the fit the data a better. In this example, I would pick 6 as the most appropriate cluster number for the data as the chart really levels off after that."
   ]
  },
  {
   "cell_type": "markdown",
   "id": "d87f1f2f",
   "metadata": {},
   "source": [
    "**After class Activities**\n",
    "* Use 'diag','spherical' 'tied' and 'full' covariance martices and determine the best covariance_type on X_tfidf"
   ]
  },
  {
   "cell_type": "markdown",
   "id": "21e31476",
   "metadata": {},
   "source": [
    "# Latent Dirichlet Allocation for Text Data\n",
    "\n",
    "\n",
    "We will use Sklearn and numpy libraries to fit an LDA model to a corpus of Wikipedia articles and examine the results to analyze the impact of a mixed membership approach. In particular, we want to identify the topics discovered by the model in terms of their most important words, and we want to use the model to predict the topic membership distribution for a given document. "
   ]
  },
  {
   "cell_type": "markdown",
   "id": "0e4ef7af",
   "metadata": {},
   "source": [
    "# LDA Parameters\n",
    "\n",
    "* n_components (int): Number of topics. default=10\n",
    "* doc_topic_prior (float) Prior of document topic distribution alpha. If the value is None, defaults to 1 / n_components (alsp called alpha). default=None\n",
    "* topic_word_prior (float): Prior of topic word distribution beta. If the value is None, defaults to 1 / n_components. This is often called eta. default=None\n",
    "\n",
    "* learning_method: Method used to update _component. Only used in fit method. In general, if the data size is large, the online update will be much faster than the batch update. default=’batch’\n",
    "    - 'batch': Batch variational Bayes method. Use all training data in each EM update.\n",
    "    - 'online': Online variational Bayes method. In each EM update, use mini-batch of training data to update the ``components_`` variable incrementally. The learning rate is controlled by the ``learning_decay`` and the ``learning_offset`` parameters.\n",
    "    - max_iter (int): The maximum number of passes over the training data (aka epochs). It only impacts the behavior in the fit method, and not the partial_fit method. default=10\n",
    "    - batch_size (int): Number of documents to use in each EM iteration. Only used in online learning. default=128"
   ]
  },
  {
   "cell_type": "code",
   "execution_count": 55,
   "id": "e9577543",
   "metadata": {},
   "outputs": [],
   "source": [
    "n_components=5\n",
    "learning_method = 'online'\n",
    "random_state=42\n",
    "max_iter=10               # Max learning iterations\n",
    "batch_size=128            # n docs in each learning iter\n",
    "evaluate_every = -1       # compute perplexity every n iters\n",
    "n_jobs = -1               # Use all available CPUs"
   ]
  },
  {
   "cell_type": "markdown",
   "id": "1a7f1ee6",
   "metadata": {},
   "source": [
    "Train LDA"
   ]
  },
  {
   "cell_type": "code",
   "execution_count": 56,
   "id": "6115f065",
   "metadata": {},
   "outputs": [
    {
     "data": {
      "text/plain": [
       "LatentDirichletAllocation(learning_method='online', n_components=5, n_jobs=-1,\n",
       "                          random_state=42)"
      ]
     },
     "execution_count": 56,
     "metadata": {},
     "output_type": "execute_result"
    }
   ],
   "source": [
    "from sklearn.decomposition import LatentDirichletAllocation\n",
    "\n",
    "lda_model = LatentDirichletAllocation(n_components=n_components,\n",
    "                                learning_method=learning_method,\n",
    "                                random_state=random_state,\n",
    "                                max_iter=max_iter,          \n",
    "                                batch_size=batch_size,         \n",
    "                                evaluate_every = evaluate_every, \n",
    "                                n_jobs = n_jobs)              \n",
    "\n",
    "lda_model.fit(X_tfidf)"
   ]
  },
  {
   "cell_type": "code",
   "execution_count": 57,
   "id": "53ac614d",
   "metadata": {},
   "outputs": [
    {
     "data": {
      "text/plain": [
       "array([[0.91029867, 0.02242516, 0.02242576, 0.0224252 , 0.02242521],\n",
       "       [0.91770504, 0.02057441, 0.02057349, 0.02057352, 0.02057354],\n",
       "       [0.91336026, 0.02165985, 0.02165979, 0.02166032, 0.02165978],\n",
       "       [0.93586926, 0.0160327 , 0.01603272, 0.01603264, 0.01603268],\n",
       "       [0.89797581, 0.02550517, 0.0255056 , 0.02550547, 0.02550794],\n",
       "       [0.92402796, 0.01899364, 0.01899286, 0.01899277, 0.01899277],\n",
       "       [0.9301648 , 0.01745867, 0.01745885, 0.01745888, 0.0174588 ],\n",
       "       [0.94462936, 0.01384256, 0.01384256, 0.01384293, 0.01384259],\n",
       "       [0.92849359, 0.0178774 , 0.01787629, 0.01787639, 0.01787632],\n",
       "       [0.91299108, 0.02175285, 0.02175204, 0.02175205, 0.02175198]])"
      ]
     },
     "execution_count": 57,
     "metadata": {},
     "output_type": "execute_result"
    }
   ],
   "source": [
    "# Print topics for some given samples:\n",
    "lda_model.transform(X_tfidf[:10])"
   ]
  },
  {
   "cell_type": "code",
   "execution_count": 58,
   "id": "cde0904b",
   "metadata": {},
   "outputs": [
    {
     "data": {
      "text/plain": [
       "array([[0.37092307, 0.26077253, 0.26056486, ..., 0.2956993 , 0.29666738,\n",
       "        0.78674065],\n",
       "       [0.20120533, 0.20120913, 0.20141807, ..., 0.20130814, 0.20135926,\n",
       "        0.20161075],\n",
       "       [0.20164711, 0.20130726, 0.20098524, ..., 0.20151827, 0.20096899,\n",
       "        0.20141387],\n",
       "       [0.20138735, 0.20107438, 0.20143553, ..., 0.20124625, 0.20119732,\n",
       "        0.20131524],\n",
       "       [0.20161435, 0.20118716, 0.2012062 , ..., 0.2013076 , 0.20121611,\n",
       "        0.20145483]])"
      ]
     },
     "execution_count": 58,
     "metadata": {},
     "output_type": "execute_result"
    }
   ],
   "source": [
    "# Print all components (topics)\n",
    "lda_components=lda_model.components_\n",
    "lda_components"
   ]
  },
  {
   "cell_type": "markdown",
   "id": "03da354a",
   "metadata": {},
   "source": [
    "The compnents represent the number of times word j was assigned to topic i for each document"
   ]
  },
  {
   "cell_type": "markdown",
   "id": "89b64c3f",
   "metadata": {},
   "source": [
    "# Evaluate LDA \n",
    "\n",
    "One of the shortcomings of topic modeling is that there’s no guidance on the quality of topics produced. If you want to know how meaningful the topics are, you’ll need to evaluate the topic model.\n",
    "\n",
    "* Human judgment\n",
    "  * Observation-based, eg. observing the top ‘n‘ words in a topic\n",
    "  * Interpretation-based, identify the words or topics that “don’t belong” in a topic or document\n",
    "* Quantitative metrics – Perplexity (held out likelihood) and coherence calculations\n",
    "* Mixed approaches – Combinations of judgment-based and quantitative approaches"
   ]
  },
  {
   "cell_type": "markdown",
   "id": "0c91f11a",
   "metadata": {},
   "source": [
    "Method 1: Use human judgement to determine how easy it is to interpret the topics produced by the model."
   ]
  },
  {
   "cell_type": "code",
   "execution_count": 59,
   "id": "88843d85",
   "metadata": {},
   "outputs": [
    {
     "name": "stdout",
     "output_type": "stream",
     "text": [
      "Topic 0:  ['acted', 'afl', 'perth', 'aflfrom', 'assistant', 'age', 'australia']\n",
      "Topic 1:  ['afl', 'perth', 'playing', 'acted', 'digby', 'game', 'carltons']\n",
      "Topic 2:  ['acted', 'afl', 'aflfrom', 'perth', 'rules', 'brisbaneafter', '2002']\n",
      "Topic 3:  ['melbourne', 'played', 'premiership', 'senior', 'brisbaneafter', 'acted', 'continued']\n",
      "Topic 4:  ['blues', 'senior', '10', 'spanned', 'round', 'currently', 'traded']\n"
     ]
    }
   ],
   "source": [
    "# Human Judgement\n",
    "terms = features\n",
    "for index, component in enumerate(lda_components):\n",
    "    zipped = zip(terms, component)\n",
    "    top_terms_key=sorted(zipped, key = lambda t: t[1], reverse=True)[:7]\n",
    "    top_terms_list=list(dict(top_terms_key).keys())\n",
    "    print(\"Topic \"+str(index)+\": \",top_terms_list)"
   ]
  },
  {
   "cell_type": "markdown",
   "id": "977ed1c9",
   "metadata": {},
   "source": [
    "Method 2: Use perplexity (held out likelihood) which train a topic model using the training set and then test the model on a test set that contains previously unseen documents (ie. held-out documents). It assesses a topic model’s ability to predict a test set after having been trained on a training set.\n",
    "\n",
    "In practice, around 80% of a corpus may be set aside as a training set with the remaining 20% being a test set."
   ]
  },
  {
   "cell_type": "code",
   "execution_count": 60,
   "id": "114f058f",
   "metadata": {},
   "outputs": [
    {
     "name": "stdout",
     "output_type": "stream",
     "text": [
      "Model Perplexity:  103290626.57657254\n"
     ]
    }
   ],
   "source": [
    "# Use first 100 examples\n",
    "print(\"Model Perplexity: \", lda_model.perplexity(X_tfidf[:100]))"
   ]
  },
  {
   "cell_type": "code",
   "execution_count": 44,
   "id": "024188d1",
   "metadata": {},
   "outputs": [
    {
     "name": "stdout",
     "output_type": "stream",
     "text": [
      "Model Perplexity:  143735.3822554049\n"
     ]
    }
   ],
   "source": [
    "# Use all examples\n",
    "print(\"Model Perplexity: \", lda_model.perplexity(X_tfidf))"
   ]
  },
  {
   "cell_type": "markdown",
   "id": "5d4d1af4",
   "metadata": {},
   "source": [
    "One issue with using model perplexity for topic modeling evaluation is that it's often inconsistent with human judgments. This means that as the perplexity score improves (i.e., the held out log-likelihood is higher), the human interpretability of topics gets worse (rather than better)."
   ]
  },
  {
   "cell_type": "markdown",
   "id": "90d44e17",
   "metadata": {},
   "source": [
    "# Finding the best LDA model\n",
    "\n",
    "Use Grid search to find the parameters of the best model"
   ]
  },
  {
   "cell_type": "code",
   "execution_count": 45,
   "id": "6d88d708",
   "metadata": {},
   "outputs": [],
   "source": [
    "from sklearn.model_selection import GridSearchCV\n",
    "\n",
    "# Define LDA Parameters\n",
    "learning_method = 'online'\n",
    "random_state=42\n",
    "max_iter=10               # Max learning iterations\n",
    "batch_size=128            # n docs in each learning iter\n",
    "evaluate_every = -1       # compute perplexity every n iters, default: Don't\n",
    "n_jobs = -1               # Use all available CPUs\n",
    "\n",
    "# Define Search Param\n",
    "n_components = [10, 15]#, 20, 25, 30]\n",
    "learning_decay = [.5, .7, .9]\n",
    "search_params = {'n_components': n_components, 'learning_decay': learning_decay}"
   ]
  },
  {
   "cell_type": "code",
   "execution_count": 46,
   "id": "331aa275",
   "metadata": {},
   "outputs": [
    {
     "data": {
      "text/plain": [
       "GridSearchCV(estimator=LatentDirichletAllocation(learning_method='online',\n",
       "                                                 n_components=[10, 15],\n",
       "                                                 n_jobs=-1, random_state=42),\n",
       "             param_grid={'learning_decay': [0.5, 0.7, 0.9],\n",
       "                         'n_components': [10, 15]})"
      ]
     },
     "execution_count": 46,
     "metadata": {},
     "output_type": "execute_result"
    }
   ],
   "source": [
    "# Init the Model\n",
    "lda_model = LatentDirichletAllocation(n_components=n_components,\n",
    "                                learning_method=learning_method,\n",
    "                                random_state=random_state,\n",
    "                                max_iter=max_iter,          \n",
    "                                batch_size=batch_size,         \n",
    "                                evaluate_every = evaluate_every, \n",
    "                                n_jobs = n_jobs) \n",
    "\n",
    "# Init Grid Search Class\n",
    "lda_grid_model = GridSearchCV(lda_model, param_grid=search_params)\n",
    "\n",
    "# Use Grid Search to find the best paramters\n",
    "lda_grid_model.fit(X_tfidf)"
   ]
  },
  {
   "cell_type": "markdown",
   "id": "be401cad",
   "metadata": {},
   "source": [
    "Find the best LDA model"
   ]
  },
  {
   "cell_type": "markdown",
   "id": "175c8405",
   "metadata": {},
   "source": [
    "Perplexity as well is one of the intrinsic evaluation metric, and is widely used for language model evaluation. It captures how surprised a model is of new data it has not seen before, and is measured as the normalized log-likelihood of a held-out test set."
   ]
  },
  {
   "cell_type": "code",
   "execution_count": 47,
   "id": "66b185dd",
   "metadata": {},
   "outputs": [
    {
     "name": "stdout",
     "output_type": "stream",
     "text": [
      "Best Model's Params:  {'learning_decay': 0.7, 'n_components': 10}\n",
      "Best Log Likelihood Score:  -34946.022505183086\n",
      "Model Perplexity:  315201.43367601867\n"
     ]
    }
   ],
   "source": [
    "best_lda_model = lda_grid_model.best_estimator_\n",
    "\n",
    "# Model Parameters\n",
    "print(\"Best Model's Params: \", lda_grid_model.best_params_)\n",
    "\n",
    "# Log Likelihood Score\n",
    "print(\"Best Log Likelihood Score: \", lda_grid_model.best_score_)\n",
    "\n",
    "# Perplexity\n",
    "print(\"Model Perplexity: \", best_lda_model.perplexity(X_tfidf))"
   ]
  },
  {
   "cell_type": "code",
   "execution_count": 48,
   "id": "78299644",
   "metadata": {},
   "outputs": [
    {
     "data": {
      "text/plain": [
       "dict_keys(['mean_fit_time', 'std_fit_time', 'mean_score_time', 'std_score_time', 'param_learning_decay', 'param_n_components', 'params', 'split0_test_score', 'split1_test_score', 'split2_test_score', 'split3_test_score', 'split4_test_score', 'mean_test_score', 'std_test_score', 'rank_test_score'])"
      ]
     },
     "execution_count": 48,
     "metadata": {},
     "output_type": "execute_result"
    }
   ],
   "source": [
    "# Grid Search result dictionary\n",
    "lda_grid_model.cv_results_.keys()"
   ]
  },
  {
   "cell_type": "code",
   "execution_count": 49,
   "id": "76cfa39d",
   "metadata": {},
   "outputs": [
    {
     "data": {
      "text/plain": [
       "{'mean_fit_time': array([23.3196713 , 24.62708225, 23.45653   , 24.9356967 , 23.37214499,\n",
       "        24.51825356]),\n",
       " 'std_fit_time': array([0.17133272, 0.30323777, 0.20416956, 0.51256187, 0.32696119,\n",
       "        0.36919032]),\n",
       " 'mean_score_time': array([0.67175727, 0.69777627, 0.67746964, 0.69061937, 0.67948284,\n",
       "        0.69107738]),\n",
       " 'std_score_time': array([0.01739073, 0.0204164 , 0.01481439, 0.01887979, 0.04092952,\n",
       "        0.02159899]),\n",
       " 'param_learning_decay': masked_array(data=[0.5, 0.5, 0.7, 0.7, 0.9, 0.9],\n",
       "              mask=[False, False, False, False, False, False],\n",
       "        fill_value='?',\n",
       "             dtype=object),\n",
       " 'param_n_components': masked_array(data=[10, 15, 10, 15, 10, 15],\n",
       "              mask=[False, False, False, False, False, False],\n",
       "        fill_value='?',\n",
       "             dtype=object),\n",
       " 'params': [{'learning_decay': 0.5, 'n_components': 10},\n",
       "  {'learning_decay': 0.5, 'n_components': 15},\n",
       "  {'learning_decay': 0.7, 'n_components': 10},\n",
       "  {'learning_decay': 0.7, 'n_components': 15},\n",
       "  {'learning_decay': 0.9, 'n_components': 10},\n",
       "  {'learning_decay': 0.9, 'n_components': 15}],\n",
       " 'split0_test_score': array([-34643.79941777, -41224.09004386, -34693.44266242, -41119.4236272 ,\n",
       "        -53649.71177997, -98137.12962594]),\n",
       " 'split1_test_score': array([-35483.14101505, -41641.60528172, -35068.14548432, -41556.34682502,\n",
       "        -54012.97583228, -98472.155301  ]),\n",
       " 'split2_test_score': array([-34993.26581245, -41317.31599022, -34827.09303405, -41283.15206178,\n",
       "        -53800.82810602, -98208.5264833 ]),\n",
       " 'split3_test_score': array([-35597.20224214, -42081.9732884 , -35464.54259953, -42001.72047017,\n",
       "        -54349.7289024 , -98774.4000852 ]),\n",
       " 'split4_test_score': array([-34853.58710889, -41289.18015483, -34676.8887456 , -41149.99705173,\n",
       "        -53650.30646599, -98077.92803897]),\n",
       " 'mean_test_score': array([-35114.19911926, -41510.8329518 , -34946.02250518, -41422.12800718,\n",
       "        -53892.71021733, -98334.02790688]),\n",
       " 'std_test_score': array([366.94127677, 320.0321729 , 294.66960715, 328.31132365,\n",
       "        264.41635284, 258.11374049]),\n",
       " 'rank_test_score': array([2, 4, 1, 3, 5, 6], dtype=int32)}"
      ]
     },
     "execution_count": 49,
     "metadata": {},
     "output_type": "execute_result"
    }
   ],
   "source": [
    "lda_grid_model.cv_results_"
   ]
  },
  {
   "cell_type": "markdown",
   "id": "4a3b1e24",
   "metadata": {},
   "source": [
    "**After class Activities**\n",
    "* Find best document-topic density $\\alpha$ doc_topic_prior from [0.05, 0.1, 0.5, 1, 5, 10, 50] using grid search\n",
    "* Find best topic-word density $\\beta$ topic_word_prior from [0.01, 0.05, 0.1, 0.5, 1, 5, 10] using grid search\n",
    "\n",
    "Note: Higher $\\alpha$ means the model assumes documents contain more topics from vocabulary and a lower value means documents contain one or a fewer\n",
    "\n",
    "High $\\beta$ means that there are more topics in the document from vocabulary and lower values means the documents have few topics from the vocabularly"
   ]
  },
  {
   "cell_type": "code",
   "execution_count": null,
   "id": "e2ad93d4",
   "metadata": {},
   "outputs": [],
   "source": []
  }
 ],
 "metadata": {
  "kernelspec": {
   "display_name": "Python 3",
   "language": "python",
   "name": "python3"
  },
  "language_info": {
   "codemirror_mode": {
    "name": "ipython",
    "version": 3
   },
   "file_extension": ".py",
   "mimetype": "text/x-python",
   "name": "python",
   "nbconvert_exporter": "python",
   "pygments_lexer": "ipython3",
   "version": "3.8.8"
  }
 },
 "nbformat": 4,
 "nbformat_minor": 5
}
