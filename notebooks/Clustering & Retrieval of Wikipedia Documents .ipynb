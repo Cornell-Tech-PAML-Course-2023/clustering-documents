{
 "cells": [
  {
   "cell_type": "markdown",
   "id": "98ab0bba",
   "metadata": {},
   "source": [
    "### Clustering & Retrieval of Wikipedia Documents \n",
    "\n",
    "When exploring a large set of documents -- such as Wikipedia, news articles, StackOverflow, etc. -- it can be useful to get a list of related material. Using the People Wikipedia data, you can find out nearest neighbors for various people based on their wikipedia information. To find relevant documents you typically decide on a notion of similarity and find the documents that are most similar. When properly executed, clustering uncovers valuable insights from a set of unlabeled documents. This notebook covers the following clustering algorithms:\n",
    "* k-Nearest Neighbors\n",
    "* k-means\n",
    "\n",
    "In the notebook you will:\n",
    "* Apply standard preprocessing techniques on Wikipedia text data\n",
    "* Using clustering methods to group Wikipedia documents\n",
    "* Gain intuition for different notions of similarity and practice finding similar documents. \n",
    "* Evaluate cluster performance\n",
    "* Explore and interpret the results, including topic keywords and topic assignments for documents\n",
    "* Explore the tradeoffs with representing documents using raw word counts and TF-IDF\n",
    "\n",
    "Next time, we will cover:\n",
    "* Mixture Models\n",
    "* Latent Dirichlet Allocation (LDA)"
   ]
  },
  {
   "cell_type": "code",
   "execution_count": 1,
   "id": "05a28901",
   "metadata": {},
   "outputs": [],
   "source": [
    "import matplotlib.pyplot as plt\n",
    "import numpy as np\n",
    "%matplotlib inline\n",
    "import pandas as pd"
   ]
  },
  {
   "cell_type": "markdown",
   "id": "c8777c67",
   "metadata": {},
   "source": [
    "## Import People Wikipedia Dataset"
   ]
  },
  {
   "cell_type": "code",
   "execution_count": 2,
   "id": "a3dd6e25",
   "metadata": {},
   "outputs": [],
   "source": [
    "wiki = pd.read_csv('../datasets/people_wiki.csv')"
   ]
  },
  {
   "cell_type": "markdown",
   "id": "635003e8",
   "metadata": {},
   "source": [
    "Similar to prior notebooks, let's explore the statistics of missing data"
   ]
  },
  {
   "cell_type": "markdown",
   "id": "5d2c259e",
   "metadata": {},
   "source": [
    "Compute missing statistics"
   ]
  },
  {
   "cell_type": "code",
   "execution_count": 3,
   "id": "d83c03ab",
   "metadata": {},
   "outputs": [
    {
     "name": "stdout",
     "output_type": "stream",
     "text": [
      "Number of categories: 0\n",
      "Average missing values per categories: 0.0\n",
      "Categories with top 3 missing values: []\n"
     ]
    }
   ],
   "source": [
    "top_n=3\n",
    "missing_column_counts = wiki[wiki.columns[wiki.isnull().any()]].isnull().sum()\n",
    "max_idxs = np.argsort(missing_column_counts.to_numpy())[::-1][:top_n]\n",
    "\n",
    "num_categories = wiki.isna().any(axis=0).sum()\n",
    "average_per_category = wiki.isna().sum().sum()/len(wiki.columns)\n",
    "top_missing_categories = wiki.columns[max_idxs[:top_n]].to_numpy()\n",
    "\n",
    "print('Number of categories: {}'.format(num_categories))\n",
    "print('Average missing values per categories: {}'.format(average_per_category))\n",
    "print('Categories with top {} missing values: {}'.format(top_n,top_missing_categories))"
   ]
  },
  {
   "cell_type": "markdown",
   "id": "394b2cce",
   "metadata": {},
   "source": [
    "Although, having missing data is ideal, it does not happen much in practice (we got lucky). "
   ]
  },
  {
   "cell_type": "code",
   "execution_count": 4,
   "id": "e6358b2d",
   "metadata": {},
   "outputs": [
    {
     "name": "stdout",
     "output_type": "stream",
     "text": [
      "There are 42786 articles in the Wikipedia dataset\n"
     ]
    }
   ],
   "source": [
    "print('There are {} articles in the Wikipedia dataset'.format(len(wiki)))\n",
    "wiki = wiki[:1000] # explore first 1000 articles"
   ]
  },
  {
   "cell_type": "markdown",
   "id": "dc18450f",
   "metadata": {},
   "source": [
    "Inspect the People's Wikipedia dataset"
   ]
  },
  {
   "cell_type": "code",
   "execution_count": 5,
   "id": "497e75b2",
   "metadata": {},
   "outputs": [
    {
     "data": {
      "text/html": [
       "<div>\n",
       "<style scoped>\n",
       "    .dataframe tbody tr th:only-of-type {\n",
       "        vertical-align: middle;\n",
       "    }\n",
       "\n",
       "    .dataframe tbody tr th {\n",
       "        vertical-align: top;\n",
       "    }\n",
       "\n",
       "    .dataframe thead th {\n",
       "        text-align: right;\n",
       "    }\n",
       "</style>\n",
       "<table border=\"1\" class=\"dataframe\">\n",
       "  <thead>\n",
       "    <tr style=\"text-align: right;\">\n",
       "      <th></th>\n",
       "      <th>URI</th>\n",
       "      <th>name</th>\n",
       "      <th>text</th>\n",
       "    </tr>\n",
       "  </thead>\n",
       "  <tbody>\n",
       "    <tr>\n",
       "      <th>0</th>\n",
       "      <td>&lt;http://dbpedia.org/resource/Digby_Morrell&gt;</td>\n",
       "      <td>Digby Morrell</td>\n",
       "      <td>digby morrell born 10 october 1979 is a former...</td>\n",
       "    </tr>\n",
       "    <tr>\n",
       "      <th>1</th>\n",
       "      <td>&lt;http://dbpedia.org/resource/Alfred_J._Lewy&gt;</td>\n",
       "      <td>Alfred J. Lewy</td>\n",
       "      <td>alfred j lewy aka sandy lewy graduated from un...</td>\n",
       "    </tr>\n",
       "    <tr>\n",
       "      <th>2</th>\n",
       "      <td>&lt;http://dbpedia.org/resource/Harpdog_Brown&gt;</td>\n",
       "      <td>Harpdog Brown</td>\n",
       "      <td>harpdog brown is a singer and harmonica player...</td>\n",
       "    </tr>\n",
       "    <tr>\n",
       "      <th>3</th>\n",
       "      <td>&lt;http://dbpedia.org/resource/Franz_Rottensteiner&gt;</td>\n",
       "      <td>Franz Rottensteiner</td>\n",
       "      <td>franz rottensteiner born in waidmannsfeld lowe...</td>\n",
       "    </tr>\n",
       "    <tr>\n",
       "      <th>4</th>\n",
       "      <td>&lt;http://dbpedia.org/resource/G-Enka&gt;</td>\n",
       "      <td>G-Enka</td>\n",
       "      <td>henry krvits born 30 december 1974 in tallinn ...</td>\n",
       "    </tr>\n",
       "    <tr>\n",
       "      <th>...</th>\n",
       "      <td>...</td>\n",
       "      <td>...</td>\n",
       "      <td>...</td>\n",
       "    </tr>\n",
       "    <tr>\n",
       "      <th>995</th>\n",
       "      <td>&lt;http://dbpedia.org/resource/Tantely_Andrianar...</td>\n",
       "      <td>Tantely Andrianarivo</td>\n",
       "      <td>ren tantely gabrio andrianarivo born 25 may 19...</td>\n",
       "    </tr>\n",
       "    <tr>\n",
       "      <th>996</th>\n",
       "      <td>&lt;http://dbpedia.org/resource/Terry_Wogan&gt;</td>\n",
       "      <td>Terry Wogan</td>\n",
       "      <td>sir michael terence terry wogan kbe dl born 3 ...</td>\n",
       "    </tr>\n",
       "    <tr>\n",
       "      <th>997</th>\n",
       "      <td>&lt;http://dbpedia.org/resource/Mike_LaValliere&gt;</td>\n",
       "      <td>Mike LaValliere</td>\n",
       "      <td>michael eugene mike lavalliere born august 18 ...</td>\n",
       "    </tr>\n",
       "    <tr>\n",
       "      <th>998</th>\n",
       "      <td>&lt;http://dbpedia.org/resource/Benjamin_Vogt_(po...</td>\n",
       "      <td>Benjamin Vogt (poet)</td>\n",
       "      <td>benjamin vogt is a poet and essayist from linc...</td>\n",
       "    </tr>\n",
       "    <tr>\n",
       "      <th>999</th>\n",
       "      <td>&lt;http://dbpedia.org/resource/Neil_Fallon&gt;</td>\n",
       "      <td>Neil Fallon</td>\n",
       "      <td>neil patrick fallon october 25 1971 in portsmo...</td>\n",
       "    </tr>\n",
       "  </tbody>\n",
       "</table>\n",
       "<p>1000 rows × 3 columns</p>\n",
       "</div>"
      ],
      "text/plain": [
       "                                                   URI                  name  \\\n",
       "0          <http://dbpedia.org/resource/Digby_Morrell>         Digby Morrell   \n",
       "1         <http://dbpedia.org/resource/Alfred_J._Lewy>        Alfred J. Lewy   \n",
       "2          <http://dbpedia.org/resource/Harpdog_Brown>         Harpdog Brown   \n",
       "3    <http://dbpedia.org/resource/Franz_Rottensteiner>   Franz Rottensteiner   \n",
       "4                 <http://dbpedia.org/resource/G-Enka>                G-Enka   \n",
       "..                                                 ...                   ...   \n",
       "995  <http://dbpedia.org/resource/Tantely_Andrianar...  Tantely Andrianarivo   \n",
       "996          <http://dbpedia.org/resource/Terry_Wogan>           Terry Wogan   \n",
       "997      <http://dbpedia.org/resource/Mike_LaValliere>       Mike LaValliere   \n",
       "998  <http://dbpedia.org/resource/Benjamin_Vogt_(po...  Benjamin Vogt (poet)   \n",
       "999          <http://dbpedia.org/resource/Neil_Fallon>           Neil Fallon   \n",
       "\n",
       "                                                  text  \n",
       "0    digby morrell born 10 october 1979 is a former...  \n",
       "1    alfred j lewy aka sandy lewy graduated from un...  \n",
       "2    harpdog brown is a singer and harmonica player...  \n",
       "3    franz rottensteiner born in waidmannsfeld lowe...  \n",
       "4    henry krvits born 30 december 1974 in tallinn ...  \n",
       "..                                                 ...  \n",
       "995  ren tantely gabrio andrianarivo born 25 may 19...  \n",
       "996  sir michael terence terry wogan kbe dl born 3 ...  \n",
       "997  michael eugene mike lavalliere born august 18 ...  \n",
       "998  benjamin vogt is a poet and essayist from linc...  \n",
       "999  neil patrick fallon october 25 1971 in portsmo...  \n",
       "\n",
       "[1000 rows x 3 columns]"
      ]
     },
     "execution_count": 5,
     "metadata": {},
     "output_type": "execute_result"
    }
   ],
   "source": [
    "wiki"
   ]
  },
  {
   "cell_type": "markdown",
   "id": "6d5aefcb",
   "metadata": {},
   "source": [
    "Let's explore one article at index 269 about "
   ]
  },
  {
   "cell_type": "code",
   "execution_count": 6,
   "id": "70609ef2",
   "metadata": {},
   "outputs": [
    {
     "name": "stdout",
     "output_type": "stream",
     "text": [
      "Kerr Cuhulain\n",
      "kerr cuhulain is the pen name of canadian occult author and retired detective constable charles ennis a former child abuse investigator he is the author of several articles on child abuse investigation that appeared in law order magazine a former air force officer cuhulain was a police officer for over 28 years a police dispatcher for another 8 years and a wiccan for over forty hes served on the swat team gang crime unit and hostage negotiation teambetter known to the pagan community by his wiccan name kerr cuhulain ennis was the first wiccan police officer to go public about his beliefs 36 years ago he is the former preceptor general of officers of avalon a nonprofit benevolent association for pagan and wiccan law enforcement firefighting and emergency medical personnel and their families he is a frequent contributor to the witches voice networking website and has applied his abilities as an investigative journalist to the histories of several controversial individuals in the neopagan and new age communities such as john todd and michael warnke he speaks at writers conferences and pagan festivals throughout north americancuhulain lives in sechelt british columbia he founded an order of knighthood the order of paladins wwworderofpaladinscom he now also writes fantasy fiction as c a ennis and paranormal romance as carrie bryce\n"
     ]
    }
   ],
   "source": [
    "print(wiki['name'][269])\n",
    "print(wiki['text'][269])"
   ]
  },
  {
   "cell_type": "markdown",
   "id": "43d96421",
   "metadata": {},
   "source": [
    "## Explore Wikipedia dataset"
   ]
  },
  {
   "cell_type": "markdown",
   "id": "bf28a6c2",
   "metadata": {},
   "source": [
    "### Descriptive Statistics\n",
    "- total_num_words: Total number of words\n",
    "- average_word_count: Average word count per articles\n",
    "- top_n_articles_most_words: Top n articles with most words\n",
    "- top_n_articles_least_words: Top n articles with and least words"
   ]
  },
  {
   "cell_type": "markdown",
   "id": "46317ed9",
   "metadata": {},
   "source": [
    "Drop Nans before exploring the dataset "
   ]
  },
  {
   "cell_type": "code",
   "execution_count": 7,
   "id": "f48d9537",
   "metadata": {},
   "outputs": [
    {
     "name": "stdout",
     "output_type": "stream",
     "text": [
      "0 articles have been removed from the dataset\n"
     ]
    }
   ],
   "source": [
    "num_obs=len(wiki)\n",
    "wiki = wiki.dropna()\n",
    "print('{} articles have been removed from the dataset'.format(num_obs-len(wiki)))"
   ]
  },
  {
   "cell_type": "code",
   "execution_count": 8,
   "id": "c06ed7bb",
   "metadata": {},
   "outputs": [
    {
     "data": {
      "text/plain": [
       "URI     0\n",
       "name    0\n",
       "text    0\n",
       "dtype: int64"
      ]
     },
     "execution_count": 8,
     "metadata": {},
     "output_type": "execute_result"
    }
   ],
   "source": [
    "wiki.isna().sum()"
   ]
  },
  {
   "cell_type": "markdown",
   "id": "c693c8cb",
   "metadata": {},
   "source": [
    "Compute descriptive statistic about Wikipedia articles"
   ]
  },
  {
   "cell_type": "code",
   "execution_count": 9,
   "id": "d7cc923d",
   "metadata": {},
   "outputs": [],
   "source": [
    "top_n=3\n",
    "wiki['num_words'] = wiki['text'].apply(lambda sentence: len(sentence.split()))\n",
    "total_num_words = wiki['num_words'].sum()\n",
    "average_word_count = total_num_words / len(wiki)\n",
    "top_n_reviews_most_words = wiki.nlargest(top_n, 'num_words')['text']\n",
    "top_n_names_most_words = wiki.nlargest(top_n, 'num_words')['name']\n",
    "\n",
    "top_n_reviews_least_words = wiki.nsmallest(top_n, 'num_words')['text']\n",
    "top_n_names_least_words = wiki.nsmallest(top_n, 'num_words')['name']"
   ]
  },
  {
   "cell_type": "code",
   "execution_count": 10,
   "id": "040cce2f",
   "metadata": {},
   "outputs": [
    {
     "name": "stdout",
     "output_type": "stream",
     "text": [
      "Total number of words: 312223\n",
      "Average words per article: 312.223\n",
      "Top 3 articles with most words: ['John Donald (jewellery designer)', 'Davi Kopenawa Yanomami', 'Mary Fitzgerald (artist)']\n",
      "Top 3 articles with least words: ['G-Enka', 'Albert Apuzzi', 'Se%C3%A1n %C3%93g %C3%93 hAilp%C3%ADn']\n"
     ]
    }
   ],
   "source": [
    "print('Total number of words: {}'.format(total_num_words))\n",
    "print('Average words per article: {}'.format(average_word_count))\n",
    "print('Top {} articles with most words: {}'.format(top_n, [i for i in top_n_names_most_words]))\n",
    "print('Top {} articles with least words: {}'.format(top_n, [i for i in top_n_names_least_words]))"
   ]
  },
  {
   "cell_type": "markdown",
   "id": "0383ae64",
   "metadata": {},
   "source": [
    "### Remove unuseful articles"
   ]
  },
  {
   "cell_type": "markdown",
   "id": "46556e1a",
   "metadata": {},
   "source": [
    "Using keyword search, remove 'bad' articles"
   ]
  },
  {
   "cell_type": "code",
   "execution_count": 11,
   "id": "095038aa",
   "metadata": {},
   "outputs": [
    {
     "name": "stdout",
     "output_type": "stream",
     "text": [
      "One example of an useful article: ['sen g hailpn born 22 may 1977 is a fijianirish hurler and gaelic footballerin an intercounty playing career that spanned three decades hailpn played for the cork senior hurling and football teams winning major honours with both he also enjoyed much success with club side na piarsaigh and represented munster in the interprovincial championshipsafter starting his career as a hurler at minor level hailpn joined the cork senior hurling team in 1996 between then and 2012 he won three allireland medals five munster medals and one national hurling league medal hailpns threeyear career with the cork senior football team saw him win one munster medal and one national football league medalat club level hailpn is a twotime county hurling championship medalist with na piarsaigh hailpn has a number of personal achievements including three consecutive all star awards in 2004 he made a clean sweep of all the top individual awards winning the alln star texaco and gpa hurler of the year awards four years later in 2009 he was chosen on the munster team of the past twentyfive yearshis brothers setanta teu and aisake are also notable sportsmenin october 2013 hailpn released his autobiography called sean og o hailpin the autobiography']\n"
     ]
    }
   ],
   "source": [
    "keyword = 'Se%C3%A1n %C3%93g %C3%93 hAilp%C3%ADn'\n",
    "print('One example of an useful article: {}'.format([i for i in wiki[wiki['name']==keyword]['text']]))"
   ]
  },
  {
   "cell_type": "code",
   "execution_count": 12,
   "id": "c2b4e366",
   "metadata": {},
   "outputs": [
    {
     "data": {
      "text/html": [
       "<div>\n",
       "<style scoped>\n",
       "    .dataframe tbody tr th:only-of-type {\n",
       "        vertical-align: middle;\n",
       "    }\n",
       "\n",
       "    .dataframe tbody tr th {\n",
       "        vertical-align: top;\n",
       "    }\n",
       "\n",
       "    .dataframe thead th {\n",
       "        text-align: right;\n",
       "    }\n",
       "</style>\n",
       "<table border=\"1\" class=\"dataframe\">\n",
       "  <thead>\n",
       "    <tr style=\"text-align: right;\">\n",
       "      <th></th>\n",
       "      <th>index</th>\n",
       "      <th>URI</th>\n",
       "      <th>name</th>\n",
       "      <th>text</th>\n",
       "      <th>num_words</th>\n",
       "    </tr>\n",
       "  </thead>\n",
       "  <tbody>\n",
       "    <tr>\n",
       "      <th>0</th>\n",
       "      <td>0</td>\n",
       "      <td>&lt;http://dbpedia.org/resource/Digby_Morrell&gt;</td>\n",
       "      <td>Digby Morrell</td>\n",
       "      <td>digby morrell born 10 october 1979 is a former...</td>\n",
       "      <td>251</td>\n",
       "    </tr>\n",
       "    <tr>\n",
       "      <th>1</th>\n",
       "      <td>1</td>\n",
       "      <td>&lt;http://dbpedia.org/resource/Alfred_J._Lewy&gt;</td>\n",
       "      <td>Alfred J. Lewy</td>\n",
       "      <td>alfred j lewy aka sandy lewy graduated from un...</td>\n",
       "      <td>223</td>\n",
       "    </tr>\n",
       "    <tr>\n",
       "      <th>2</th>\n",
       "      <td>2</td>\n",
       "      <td>&lt;http://dbpedia.org/resource/Harpdog_Brown&gt;</td>\n",
       "      <td>Harpdog Brown</td>\n",
       "      <td>harpdog brown is a singer and harmonica player...</td>\n",
       "      <td>226</td>\n",
       "    </tr>\n",
       "    <tr>\n",
       "      <th>3</th>\n",
       "      <td>3</td>\n",
       "      <td>&lt;http://dbpedia.org/resource/Franz_Rottensteiner&gt;</td>\n",
       "      <td>Franz Rottensteiner</td>\n",
       "      <td>franz rottensteiner born in waidmannsfeld lowe...</td>\n",
       "      <td>377</td>\n",
       "    </tr>\n",
       "    <tr>\n",
       "      <th>4</th>\n",
       "      <td>4</td>\n",
       "      <td>&lt;http://dbpedia.org/resource/G-Enka&gt;</td>\n",
       "      <td>G-Enka</td>\n",
       "      <td>henry krvits born 30 december 1974 in tallinn ...</td>\n",
       "      <td>201</td>\n",
       "    </tr>\n",
       "    <tr>\n",
       "      <th>...</th>\n",
       "      <td>...</td>\n",
       "      <td>...</td>\n",
       "      <td>...</td>\n",
       "      <td>...</td>\n",
       "      <td>...</td>\n",
       "    </tr>\n",
       "    <tr>\n",
       "      <th>995</th>\n",
       "      <td>995</td>\n",
       "      <td>&lt;http://dbpedia.org/resource/Tantely_Andrianar...</td>\n",
       "      <td>Tantely Andrianarivo</td>\n",
       "      <td>ren tantely gabrio andrianarivo born 25 may 19...</td>\n",
       "      <td>508</td>\n",
       "    </tr>\n",
       "    <tr>\n",
       "      <th>996</th>\n",
       "      <td>996</td>\n",
       "      <td>&lt;http://dbpedia.org/resource/Terry_Wogan&gt;</td>\n",
       "      <td>Terry Wogan</td>\n",
       "      <td>sir michael terence terry wogan kbe dl born 3 ...</td>\n",
       "      <td>233</td>\n",
       "    </tr>\n",
       "    <tr>\n",
       "      <th>997</th>\n",
       "      <td>997</td>\n",
       "      <td>&lt;http://dbpedia.org/resource/Mike_LaValliere&gt;</td>\n",
       "      <td>Mike LaValliere</td>\n",
       "      <td>michael eugene mike lavalliere born august 18 ...</td>\n",
       "      <td>353</td>\n",
       "    </tr>\n",
       "    <tr>\n",
       "      <th>998</th>\n",
       "      <td>998</td>\n",
       "      <td>&lt;http://dbpedia.org/resource/Benjamin_Vogt_(po...</td>\n",
       "      <td>Benjamin Vogt (poet)</td>\n",
       "      <td>benjamin vogt is a poet and essayist from linc...</td>\n",
       "      <td>374</td>\n",
       "    </tr>\n",
       "    <tr>\n",
       "      <th>999</th>\n",
       "      <td>999</td>\n",
       "      <td>&lt;http://dbpedia.org/resource/Neil_Fallon&gt;</td>\n",
       "      <td>Neil Fallon</td>\n",
       "      <td>neil patrick fallon october 25 1971 in portsmo...</td>\n",
       "      <td>283</td>\n",
       "    </tr>\n",
       "  </tbody>\n",
       "</table>\n",
       "<p>1000 rows × 5 columns</p>\n",
       "</div>"
      ],
      "text/plain": [
       "     index                                                URI  \\\n",
       "0        0        <http://dbpedia.org/resource/Digby_Morrell>   \n",
       "1        1       <http://dbpedia.org/resource/Alfred_J._Lewy>   \n",
       "2        2        <http://dbpedia.org/resource/Harpdog_Brown>   \n",
       "3        3  <http://dbpedia.org/resource/Franz_Rottensteiner>   \n",
       "4        4               <http://dbpedia.org/resource/G-Enka>   \n",
       "..     ...                                                ...   \n",
       "995    995  <http://dbpedia.org/resource/Tantely_Andrianar...   \n",
       "996    996          <http://dbpedia.org/resource/Terry_Wogan>   \n",
       "997    997      <http://dbpedia.org/resource/Mike_LaValliere>   \n",
       "998    998  <http://dbpedia.org/resource/Benjamin_Vogt_(po...   \n",
       "999    999          <http://dbpedia.org/resource/Neil_Fallon>   \n",
       "\n",
       "                     name                                               text  \\\n",
       "0           Digby Morrell  digby morrell born 10 october 1979 is a former...   \n",
       "1          Alfred J. Lewy  alfred j lewy aka sandy lewy graduated from un...   \n",
       "2           Harpdog Brown  harpdog brown is a singer and harmonica player...   \n",
       "3     Franz Rottensteiner  franz rottensteiner born in waidmannsfeld lowe...   \n",
       "4                  G-Enka  henry krvits born 30 december 1974 in tallinn ...   \n",
       "..                    ...                                                ...   \n",
       "995  Tantely Andrianarivo  ren tantely gabrio andrianarivo born 25 may 19...   \n",
       "996           Terry Wogan  sir michael terence terry wogan kbe dl born 3 ...   \n",
       "997       Mike LaValliere  michael eugene mike lavalliere born august 18 ...   \n",
       "998  Benjamin Vogt (poet)  benjamin vogt is a poet and essayist from linc...   \n",
       "999           Neil Fallon  neil patrick fallon october 25 1971 in portsmo...   \n",
       "\n",
       "     num_words  \n",
       "0          251  \n",
       "1          223  \n",
       "2          226  \n",
       "3          377  \n",
       "4          201  \n",
       "..         ...  \n",
       "995        508  \n",
       "996        233  \n",
       "997        353  \n",
       "998        374  \n",
       "999        283  \n",
       "\n",
       "[1000 rows x 5 columns]"
      ]
     },
     "execution_count": 12,
     "metadata": {},
     "output_type": "execute_result"
    }
   ],
   "source": [
    "index_drop = wiki[(wiki['name'] >= keyword)].index\n",
    "wiki.drop(index_drop)\n",
    "wiki.reset_index()"
   ]
  },
  {
   "cell_type": "code",
   "execution_count": 13,
   "id": "224bd627",
   "metadata": {},
   "outputs": [
    {
     "name": "stdout",
     "output_type": "stream",
     "text": [
      "This array should be empty to show the keyword item was removed: Int64Index([  7,  10,  24,  25,  31,  36,  38,  40,  42,  46,\n",
      "            ...\n",
      "            952, 955, 965, 966, 967, 970, 974, 987, 995, 996],\n",
      "           dtype='int64', length=139)\n"
     ]
    }
   ],
   "source": [
    "index_drop = wiki[(wiki['name'] >= keyword)].index\n",
    "print('This array should be empty to show the keyword item was removed: {}'.format(index_drop))"
   ]
  },
  {
   "cell_type": "markdown",
   "id": "56b577f5",
   "metadata": {},
   "source": [
    "### Inspect articles with keyword search"
   ]
  },
  {
   "cell_type": "markdown",
   "id": "bbfa47e5",
   "metadata": {},
   "source": [
    "Search by article name"
   ]
  },
  {
   "cell_type": "code",
   "execution_count": 14,
   "id": "5f30d882",
   "metadata": {},
   "outputs": [
    {
     "name": "stdout",
     "output_type": "stream",
     "text": [
      "Number of words in Digby Morrell article is 1479\n",
      "\n",
      "Digby Morrell article: ['digby morrell born 10 october 1979 is a former australian rules footballer who played with the kangaroos and carlton in the australian football league aflfrom western australia morrell played his early senior football for west perth his 44game senior career for the falcons spanned 19982000 and he was the clubs leading goalkicker in 2000 at the age of 21 morrell was recruited to the australian football league by the kangaroos football club with its third round selection in the 2001 afl rookie draft as a forward he twice kicked five goals during his time with the kangaroos the first was in a losing cause against sydney in 2002 and the other the following season in a drawn game against brisbaneafter the 2003 season morrell was traded along with david teague to the carlton football club in exchange for corey mckernan he played 32 games for the blues before being delisted at the end of 2005 he continued to play victorian football league vfl football with the northern bullants carltons vflaffiliate in 2006 and acted as playing assistant coach in 2007 in 2008 he shifted to the box hill hawks before retiring from playing at the end of the season from 2009 until 2013 morrell was the senior coach of the strathmore football club in the essendon district football league leading the club to the 2011 premier division premiership since 2014 he has coached the west coburg football club also in the edflhe currently teaches physical education at parade college in melbourne']\n"
     ]
    }
   ],
   "source": [
    "keyword = 'Digby Morrell'\n",
    "digby_morrell_text = wiki.loc[wiki['name']==keyword, 'text'].tolist()\n",
    "\n",
    "print('Number of words in {} article is {}\\n'.format(keyword,len(digby_morrell_text[0])))\n",
    "print('{} article: {}'.format(keyword,digby_morrell_text))"
   ]
  },
  {
   "cell_type": "markdown",
   "id": "f7ee8603",
   "metadata": {},
   "source": [
    "### Inspect article word counts with keyword search"
   ]
  },
  {
   "cell_type": "code",
   "execution_count": 15,
   "id": "dcedfb52",
   "metadata": {},
   "outputs": [],
   "source": [
    "from sklearn.feature_extraction.text import CountVectorizer,TfidfVectorizer\n",
    "\n",
    "def inspect_article_word_count(wiki, keyword, num_words=50):\n",
    "    \"\"\"\n",
    "    This function inspects the top word counts for a given keyword (name) \n",
    "    \n",
    "    Input\n",
    "        - wiki: pandas dataframe containing the wikipedia datast\n",
    "        - keyword: name keyword to search in the dataset\n",
    "        - num_words = number of words to report\n",
    "    Output\n",
    "        - word_counter: word counts\n",
    "    \"\"\"\n",
    "    #keyword = 'Digby Morrell'\n",
    "    keyword_text = wiki.loc[wiki['name']==keyword, 'text'].tolist()\n",
    "\n",
    "    counter = CountVectorizer(stop_words='english')\n",
    "    count_matrix =counter.fit_transform(keyword_text)\n",
    "    features = counter.get_feature_names()\n",
    "\n",
    "    # Create a series from the sparse matrix\n",
    "    word_counter = pd.Series(count_matrix.toarray().flatten(), \n",
    "                  index = features).sort_values(ascending=False)\n",
    "    \n",
    "    # Plot the most frequent words in keyword in the article name without taking under consideration  the stopwords.\n",
    "    bar_graph = word_counter[:num_words].plot(kind='bar', \n",
    "                                        figsize=(18,8), \n",
    "                                        alpha=1, \n",
    "                                        fontsize=17, \n",
    "                                        rot=90,\n",
    "                                        edgecolor='black', \n",
    "                                        linewidth=2,\n",
    "                                        title=keyword+' Wikipedia Article Word Counts')\n",
    "    bar_graph.set_xlabel('Words')\n",
    "    bar_graph.set_ylabel('Occurrences')\n",
    "    bar_graph.title.set_size(18)\n",
    "    return word_counter"
   ]
  },
  {
   "cell_type": "code",
   "execution_count": 16,
   "id": "12898b2e",
   "metadata": {},
   "outputs": [
    {
     "name": "stdout",
     "output_type": "stream",
     "text": [
      "football      10\n",
      "club           5\n",
      "morrell        5\n",
      "league         4\n",
      "australian     3\n",
      "              ..\n",
      "losing         1\n",
      "mckernan       1\n",
      "melbourne      1\n",
      "northern       1\n",
      "10             1\n",
      "Length: 107, dtype: int64\n"
     ]
    },
    {
     "data": {
      "image/png": "[encoded data removed]",
      "text/plain": [
       "<Figure size 1296x576 with 1 Axes>"
      ]
     },
     "metadata": {
      "needs_background": "light"
     },
     "output_type": "display_data"
    }
   ],
   "source": [
    "digby_counter = inspect_article_word_count(wiki, 'Digby Morrell', num_words=50)\n",
    "print(digby_counter)"
   ]
  },
  {
   "cell_type": "markdown",
   "id": "f4fc08d2",
   "metadata": {},
   "source": [
    "### Inspect article TF-IDF with keyword search"
   ]
  },
  {
   "cell_type": "code",
   "execution_count": 17,
   "id": "b8e80289",
   "metadata": {},
   "outputs": [],
   "source": [
    "def plot_tf_idf_keyword(name, wiki):\n",
    "    \"\"\"\n",
    "    This function inspects the top word importance tf-idf for a given keyword (name) \n",
    "    \n",
    "    Input\n",
    "        - wiki: pandas dataframe containing the wikipedia datast\n",
    "        - keyword: name keyword to search in the dataset\n",
    "        - num_words = number of words to report\n",
    "    Output\n",
    "        - word_counter: tf-idf counts\n",
    "    \"\"\"\n",
    "    # Apply this vectorizer to the full dataset to create normalized vectors\n",
    "    tfidf_vectorizer = TfidfVectorizer(min_df=5, max_df = 0.8, sublinear_tf=True, use_idf =True, stop_words = 'english')\n",
    "\n",
    "    # tfidf_vectorizer.fit: Learn vocabulary and idf from training set.\n",
    "    tfidf_matrix = tfidf_vectorizer.fit_transform(wiki.text.values)\n",
    "\n",
    "    # tfidf_vectorizer.get_feature_names(): Array mapping from feature integer indices to feature name\n",
    "    features = tfidf_vectorizer.get_feature_names()\n",
    "\n",
    "    # Get the row that belongs to name\n",
    "    row = wiki[wiki.name==name].index.tolist()[0]\n",
    "\n",
    "    # Create a series from the sparse matrix\n",
    "    clinton_matrix = pd.Series(tfidf_matrix.getrow(row).toarray().flatten(),index = features).sort_values(ascending=False)\n",
    "    tf_idf_plot = clinton_matrix[:20].plot(kind='bar', title= name+' Wikipedia Article Word TF-IDF Values',\n",
    "                figsize=(10,6), alpha=1, fontsize=14, rot=80,edgecolor='black', linewidth=2 )\n",
    "    tf_idf_plot.title.set_size(18)\n",
    "    tf_idf_plot.set_xlabel('WORDS')\n",
    "    tf_idf_plot.set_ylabel('TF-IDF')"
   ]
  },
  {
   "cell_type": "code",
   "execution_count": 18,
   "id": "534e897b",
   "metadata": {},
   "outputs": [
    {
     "data": {
      "image/png": "[encoded data removed]",
      "text/plain": [
       "<Figure size 720x432 with 1 Axes>"
      ]
     },
     "metadata": {
      "needs_background": "light"
     },
     "output_type": "display_data"
    }
   ],
   "source": [
    "name = 'Digby Morrell'#'Mike LaValliere'\n",
    "wiki_copy = wiki.copy()\n",
    "plot_tf_idf_keyword(name, wiki)"
   ]
  },
  {
   "cell_type": "markdown",
   "id": "62a84686",
   "metadata": {},
   "source": [
    "## Extract word count vectors\n",
    "\n",
    "As we have seen in the 'Predicting Product sentiment' notebook."
   ]
  },
  {
   "cell_type": "code",
   "execution_count": 19,
   "id": "59c28acf",
   "metadata": {},
   "outputs": [],
   "source": [
    "import string \n",
    "def remove_punctuation(text):\n",
    "    \"\"\"\n",
    "    This function removes punction for text\n",
    "    Input\n",
    "        - text: text data to remove punctuation\n",
    "    Output\n",
    "        - text: updates text data \n",
    "    \"\"\"\n",
    "    try: # python 2.x\n",
    "        text = text.translate(None, string.punctuation) \n",
    "    except: # python 3.x\n",
    "        translator = text.maketrans('', '', string.punctuation)\n",
    "        text = text.translate(translator)\n",
    "    return text"
   ]
  },
  {
   "cell_type": "code",
   "execution_count": 20,
   "id": "2d1922df",
   "metadata": {},
   "outputs": [
    {
     "name": "stdout",
     "output_type": "stream",
     "text": [
      "0      digby morrell born 10 october 1979 is a former...\n",
      "1      alfred j lewy aka sandy lewy graduated from un...\n",
      "2      harpdog brown is a singer and harmonica player...\n",
      "3      franz rottensteiner born in waidmannsfeld lowe...\n",
      "4      henry krvits born 30 december 1974 in tallinn ...\n",
      "                             ...                        \n",
      "995    ren tantely gabrio andrianarivo born 25 may 19...\n",
      "996    sir michael terence terry wogan kbe dl born 3 ...\n",
      "997    michael eugene mike lavalliere born august 18 ...\n",
      "998    benjamin vogt is a poet and essayist from linc...\n",
      "999    neil patrick fallon october 25 1971 in portsmo...\n",
      "Name: text, Length: 1000, dtype: object\n"
     ]
    }
   ],
   "source": [
    "wiki['text'] = wiki['text'].apply(remove_punctuation)\n",
    "print(wiki['text'])"
   ]
  },
  {
   "cell_type": "markdown",
   "id": "3c048041",
   "metadata": {},
   "source": [
    "Encode Word Counts"
   ]
  },
  {
   "cell_type": "code",
   "execution_count": 21,
   "id": "15e571b2",
   "metadata": {},
   "outputs": [
    {
     "name": "stdout",
     "output_type": "stream",
     "text": [
      "(1000, 34221)\n"
     ]
    }
   ],
   "source": [
    "from sklearn.feature_extraction.text import CountVectorizer\n",
    "count_vect = CountVectorizer()\n",
    "X_train_counts = count_vect.fit_transform(wiki['text'])\n",
    "print(X_train_counts.shape)\n",
    "\n",
    "word_count_df = pd.DataFrame(X_train_counts.toarray())\n",
    "word_count_df = word_count_df.add_prefix('word_count_')\n",
    "wiki = pd.concat([wiki, word_count_df], axis=1)"
   ]
  },
  {
   "cell_type": "markdown",
   "id": "fc54714e",
   "metadata": {},
   "source": [
    "Encode TF-IDF"
   ]
  },
  {
   "cell_type": "code",
   "execution_count": 22,
   "id": "a527f1ae",
   "metadata": {},
   "outputs": [],
   "source": [
    "from sklearn.feature_extraction.text import TfidfTransformer, TfidfVectorizer\n",
    "\n",
    "vectorizer = TfidfVectorizer()\n",
    "X_train_tfidf = vectorizer.fit_transform(wiki['text'])\n",
    "\n",
    "tf_idf_word_count_df = pd.DataFrame(X_train_tfidf.toarray())\n",
    "tf_idf_word_count_df = tf_idf_word_count_df.add_prefix('tf_idf_word_count_')\n",
    "wiki = pd.concat([wiki, tf_idf_word_count_df], axis=1)\n",
    "\n",
    "# Build vocabulary of words\n",
    "word_vocabulary = vectorizer.get_feature_names()"
   ]
  },
  {
   "cell_type": "markdown",
   "id": "ba25091b",
   "metadata": {},
   "source": [
    "## Split data into training and test sets\n",
    "\n",
    "Usually, we'd split the dataset into train and test sets but given that we have no labels (not so lucky), for the sake of demonstration, we will use all the data for training and use the article name as the cluster. Therefore, all articles are there own cluster in terms of labels y. This is not recommended in practice."
   ]
  },
  {
   "cell_type": "code",
   "execution_count": 23,
   "id": "b9874a1a",
   "metadata": {},
   "outputs": [
    {
     "data": {
      "text/html": [
       "<div>\n",
       "<style scoped>\n",
       "    .dataframe tbody tr th:only-of-type {\n",
       "        vertical-align: middle;\n",
       "    }\n",
       "\n",
       "    .dataframe tbody tr th {\n",
       "        vertical-align: top;\n",
       "    }\n",
       "\n",
       "    .dataframe thead th {\n",
       "        text-align: right;\n",
       "    }\n",
       "</style>\n",
       "<table border=\"1\" class=\"dataframe\">\n",
       "  <thead>\n",
       "    <tr style=\"text-align: right;\">\n",
       "      <th></th>\n",
       "      <th>word_count_0</th>\n",
       "      <th>word_count_1</th>\n",
       "      <th>word_count_2</th>\n",
       "      <th>word_count_3</th>\n",
       "      <th>word_count_4</th>\n",
       "      <th>word_count_5</th>\n",
       "      <th>word_count_6</th>\n",
       "      <th>word_count_7</th>\n",
       "      <th>word_count_8</th>\n",
       "      <th>word_count_9</th>\n",
       "      <th>...</th>\n",
       "      <th>word_count_34211</th>\n",
       "      <th>word_count_34212</th>\n",
       "      <th>word_count_34213</th>\n",
       "      <th>word_count_34214</th>\n",
       "      <th>word_count_34215</th>\n",
       "      <th>word_count_34216</th>\n",
       "      <th>word_count_34217</th>\n",
       "      <th>word_count_34218</th>\n",
       "      <th>word_count_34219</th>\n",
       "      <th>word_count_34220</th>\n",
       "    </tr>\n",
       "  </thead>\n",
       "  <tbody>\n",
       "    <tr>\n",
       "      <th>0</th>\n",
       "      <td>0</td>\n",
       "      <td>0</td>\n",
       "      <td>0</td>\n",
       "      <td>0</td>\n",
       "      <td>0</td>\n",
       "      <td>0</td>\n",
       "      <td>0</td>\n",
       "      <td>0</td>\n",
       "      <td>0</td>\n",
       "      <td>0</td>\n",
       "      <td>...</td>\n",
       "      <td>0</td>\n",
       "      <td>0</td>\n",
       "      <td>0</td>\n",
       "      <td>0</td>\n",
       "      <td>0</td>\n",
       "      <td>0</td>\n",
       "      <td>0</td>\n",
       "      <td>0</td>\n",
       "      <td>0</td>\n",
       "      <td>0</td>\n",
       "    </tr>\n",
       "    <tr>\n",
       "      <th>1</th>\n",
       "      <td>0</td>\n",
       "      <td>0</td>\n",
       "      <td>0</td>\n",
       "      <td>0</td>\n",
       "      <td>0</td>\n",
       "      <td>0</td>\n",
       "      <td>0</td>\n",
       "      <td>0</td>\n",
       "      <td>0</td>\n",
       "      <td>0</td>\n",
       "      <td>...</td>\n",
       "      <td>0</td>\n",
       "      <td>0</td>\n",
       "      <td>0</td>\n",
       "      <td>0</td>\n",
       "      <td>0</td>\n",
       "      <td>0</td>\n",
       "      <td>0</td>\n",
       "      <td>0</td>\n",
       "      <td>0</td>\n",
       "      <td>0</td>\n",
       "    </tr>\n",
       "    <tr>\n",
       "      <th>2</th>\n",
       "      <td>0</td>\n",
       "      <td>0</td>\n",
       "      <td>0</td>\n",
       "      <td>0</td>\n",
       "      <td>0</td>\n",
       "      <td>0</td>\n",
       "      <td>0</td>\n",
       "      <td>0</td>\n",
       "      <td>0</td>\n",
       "      <td>0</td>\n",
       "      <td>...</td>\n",
       "      <td>0</td>\n",
       "      <td>0</td>\n",
       "      <td>0</td>\n",
       "      <td>0</td>\n",
       "      <td>0</td>\n",
       "      <td>0</td>\n",
       "      <td>0</td>\n",
       "      <td>0</td>\n",
       "      <td>0</td>\n",
       "      <td>0</td>\n",
       "    </tr>\n",
       "    <tr>\n",
       "      <th>3</th>\n",
       "      <td>0</td>\n",
       "      <td>0</td>\n",
       "      <td>0</td>\n",
       "      <td>0</td>\n",
       "      <td>0</td>\n",
       "      <td>0</td>\n",
       "      <td>0</td>\n",
       "      <td>0</td>\n",
       "      <td>0</td>\n",
       "      <td>0</td>\n",
       "      <td>...</td>\n",
       "      <td>0</td>\n",
       "      <td>0</td>\n",
       "      <td>0</td>\n",
       "      <td>0</td>\n",
       "      <td>0</td>\n",
       "      <td>0</td>\n",
       "      <td>0</td>\n",
       "      <td>0</td>\n",
       "      <td>0</td>\n",
       "      <td>0</td>\n",
       "    </tr>\n",
       "    <tr>\n",
       "      <th>4</th>\n",
       "      <td>0</td>\n",
       "      <td>0</td>\n",
       "      <td>0</td>\n",
       "      <td>0</td>\n",
       "      <td>0</td>\n",
       "      <td>0</td>\n",
       "      <td>0</td>\n",
       "      <td>0</td>\n",
       "      <td>0</td>\n",
       "      <td>0</td>\n",
       "      <td>...</td>\n",
       "      <td>0</td>\n",
       "      <td>0</td>\n",
       "      <td>0</td>\n",
       "      <td>0</td>\n",
       "      <td>0</td>\n",
       "      <td>0</td>\n",
       "      <td>0</td>\n",
       "      <td>0</td>\n",
       "      <td>0</td>\n",
       "      <td>0</td>\n",
       "    </tr>\n",
       "    <tr>\n",
       "      <th>...</th>\n",
       "      <td>...</td>\n",
       "      <td>...</td>\n",
       "      <td>...</td>\n",
       "      <td>...</td>\n",
       "      <td>...</td>\n",
       "      <td>...</td>\n",
       "      <td>...</td>\n",
       "      <td>...</td>\n",
       "      <td>...</td>\n",
       "      <td>...</td>\n",
       "      <td>...</td>\n",
       "      <td>...</td>\n",
       "      <td>...</td>\n",
       "      <td>...</td>\n",
       "      <td>...</td>\n",
       "      <td>...</td>\n",
       "      <td>...</td>\n",
       "      <td>...</td>\n",
       "      <td>...</td>\n",
       "      <td>...</td>\n",
       "      <td>...</td>\n",
       "    </tr>\n",
       "    <tr>\n",
       "      <th>995</th>\n",
       "      <td>0</td>\n",
       "      <td>0</td>\n",
       "      <td>0</td>\n",
       "      <td>0</td>\n",
       "      <td>0</td>\n",
       "      <td>0</td>\n",
       "      <td>0</td>\n",
       "      <td>0</td>\n",
       "      <td>0</td>\n",
       "      <td>0</td>\n",
       "      <td>...</td>\n",
       "      <td>0</td>\n",
       "      <td>0</td>\n",
       "      <td>0</td>\n",
       "      <td>0</td>\n",
       "      <td>0</td>\n",
       "      <td>0</td>\n",
       "      <td>0</td>\n",
       "      <td>0</td>\n",
       "      <td>0</td>\n",
       "      <td>0</td>\n",
       "    </tr>\n",
       "    <tr>\n",
       "      <th>996</th>\n",
       "      <td>0</td>\n",
       "      <td>0</td>\n",
       "      <td>0</td>\n",
       "      <td>0</td>\n",
       "      <td>0</td>\n",
       "      <td>0</td>\n",
       "      <td>0</td>\n",
       "      <td>0</td>\n",
       "      <td>0</td>\n",
       "      <td>0</td>\n",
       "      <td>...</td>\n",
       "      <td>0</td>\n",
       "      <td>0</td>\n",
       "      <td>0</td>\n",
       "      <td>0</td>\n",
       "      <td>0</td>\n",
       "      <td>0</td>\n",
       "      <td>0</td>\n",
       "      <td>0</td>\n",
       "      <td>0</td>\n",
       "      <td>0</td>\n",
       "    </tr>\n",
       "    <tr>\n",
       "      <th>997</th>\n",
       "      <td>0</td>\n",
       "      <td>0</td>\n",
       "      <td>0</td>\n",
       "      <td>0</td>\n",
       "      <td>0</td>\n",
       "      <td>0</td>\n",
       "      <td>0</td>\n",
       "      <td>0</td>\n",
       "      <td>0</td>\n",
       "      <td>0</td>\n",
       "      <td>...</td>\n",
       "      <td>0</td>\n",
       "      <td>0</td>\n",
       "      <td>0</td>\n",
       "      <td>0</td>\n",
       "      <td>0</td>\n",
       "      <td>0</td>\n",
       "      <td>0</td>\n",
       "      <td>0</td>\n",
       "      <td>0</td>\n",
       "      <td>0</td>\n",
       "    </tr>\n",
       "    <tr>\n",
       "      <th>998</th>\n",
       "      <td>0</td>\n",
       "      <td>0</td>\n",
       "      <td>0</td>\n",
       "      <td>0</td>\n",
       "      <td>0</td>\n",
       "      <td>0</td>\n",
       "      <td>0</td>\n",
       "      <td>0</td>\n",
       "      <td>0</td>\n",
       "      <td>0</td>\n",
       "      <td>...</td>\n",
       "      <td>0</td>\n",
       "      <td>0</td>\n",
       "      <td>0</td>\n",
       "      <td>0</td>\n",
       "      <td>0</td>\n",
       "      <td>0</td>\n",
       "      <td>0</td>\n",
       "      <td>0</td>\n",
       "      <td>0</td>\n",
       "      <td>0</td>\n",
       "    </tr>\n",
       "    <tr>\n",
       "      <th>999</th>\n",
       "      <td>0</td>\n",
       "      <td>0</td>\n",
       "      <td>0</td>\n",
       "      <td>0</td>\n",
       "      <td>0</td>\n",
       "      <td>0</td>\n",
       "      <td>0</td>\n",
       "      <td>0</td>\n",
       "      <td>0</td>\n",
       "      <td>0</td>\n",
       "      <td>...</td>\n",
       "      <td>0</td>\n",
       "      <td>0</td>\n",
       "      <td>0</td>\n",
       "      <td>0</td>\n",
       "      <td>0</td>\n",
       "      <td>0</td>\n",
       "      <td>0</td>\n",
       "      <td>0</td>\n",
       "      <td>0</td>\n",
       "      <td>0</td>\n",
       "    </tr>\n",
       "  </tbody>\n",
       "</table>\n",
       "<p>1000 rows × 34221 columns</p>\n",
       "</div>"
      ],
      "text/plain": [
       "     word_count_0  word_count_1  word_count_2  word_count_3  word_count_4  \\\n",
       "0               0             0             0             0             0   \n",
       "1               0             0             0             0             0   \n",
       "2               0             0             0             0             0   \n",
       "3               0             0             0             0             0   \n",
       "4               0             0             0             0             0   \n",
       "..            ...           ...           ...           ...           ...   \n",
       "995             0             0             0             0             0   \n",
       "996             0             0             0             0             0   \n",
       "997             0             0             0             0             0   \n",
       "998             0             0             0             0             0   \n",
       "999             0             0             0             0             0   \n",
       "\n",
       "     word_count_5  word_count_6  word_count_7  word_count_8  word_count_9  \\\n",
       "0               0             0             0             0             0   \n",
       "1               0             0             0             0             0   \n",
       "2               0             0             0             0             0   \n",
       "3               0             0             0             0             0   \n",
       "4               0             0             0             0             0   \n",
       "..            ...           ...           ...           ...           ...   \n",
       "995             0             0             0             0             0   \n",
       "996             0             0             0             0             0   \n",
       "997             0             0             0             0             0   \n",
       "998             0             0             0             0             0   \n",
       "999             0             0             0             0             0   \n",
       "\n",
       "     ...  word_count_34211  word_count_34212  word_count_34213  \\\n",
       "0    ...                 0                 0                 0   \n",
       "1    ...                 0                 0                 0   \n",
       "2    ...                 0                 0                 0   \n",
       "3    ...                 0                 0                 0   \n",
       "4    ...                 0                 0                 0   \n",
       "..   ...               ...               ...               ...   \n",
       "995  ...                 0                 0                 0   \n",
       "996  ...                 0                 0                 0   \n",
       "997  ...                 0                 0                 0   \n",
       "998  ...                 0                 0                 0   \n",
       "999  ...                 0                 0                 0   \n",
       "\n",
       "     word_count_34214  word_count_34215  word_count_34216  word_count_34217  \\\n",
       "0                   0                 0                 0                 0   \n",
       "1                   0                 0                 0                 0   \n",
       "2                   0                 0                 0                 0   \n",
       "3                   0                 0                 0                 0   \n",
       "4                   0                 0                 0                 0   \n",
       "..                ...               ...               ...               ...   \n",
       "995                 0                 0                 0                 0   \n",
       "996                 0                 0                 0                 0   \n",
       "997                 0                 0                 0                 0   \n",
       "998                 0                 0                 0                 0   \n",
       "999                 0                 0                 0                 0   \n",
       "\n",
       "     word_count_34218  word_count_34219  word_count_34220  \n",
       "0                   0                 0                 0  \n",
       "1                   0                 0                 0  \n",
       "2                   0                 0                 0  \n",
       "3                   0                 0                 0  \n",
       "4                   0                 0                 0  \n",
       "..                ...               ...               ...  \n",
       "995                 0                 0                 0  \n",
       "996                 0                 0                 0  \n",
       "997                 0                 0                 0  \n",
       "998                 0                 0                 0  \n",
       "999                 0                 0                 0  \n",
       "\n",
       "[1000 rows x 34221 columns]"
      ]
     },
     "execution_count": 23,
     "metadata": {},
     "output_type": "execute_result"
    }
   ],
   "source": [
    "from sklearn.model_selection import train_test_split\n",
    "\n",
    "X_word_count = wiki.loc[:, wiki.columns.str.startswith('word_count_')] # Use word count\n",
    "X_word_count"
   ]
  },
  {
   "cell_type": "markdown",
   "id": "60e5834f",
   "metadata": {},
   "source": [
    "TF-IDF encode words from documents`m"
   ]
  },
  {
   "cell_type": "code",
   "execution_count": 24,
   "id": "4b82a879",
   "metadata": {},
   "outputs": [
    {
     "data": {
      "text/html": [
       "<div>\n",
       "<style scoped>\n",
       "    .dataframe tbody tr th:only-of-type {\n",
       "        vertical-align: middle;\n",
       "    }\n",
       "\n",
       "    .dataframe tbody tr th {\n",
       "        vertical-align: top;\n",
       "    }\n",
       "\n",
       "    .dataframe thead th {\n",
       "        text-align: right;\n",
       "    }\n",
       "</style>\n",
       "<table border=\"1\" class=\"dataframe\">\n",
       "  <thead>\n",
       "    <tr style=\"text-align: right;\">\n",
       "      <th></th>\n",
       "      <th>tf_idf_word_count_0</th>\n",
       "      <th>tf_idf_word_count_1</th>\n",
       "      <th>tf_idf_word_count_2</th>\n",
       "      <th>tf_idf_word_count_3</th>\n",
       "      <th>tf_idf_word_count_4</th>\n",
       "      <th>tf_idf_word_count_5</th>\n",
       "      <th>tf_idf_word_count_6</th>\n",
       "      <th>tf_idf_word_count_7</th>\n",
       "      <th>tf_idf_word_count_8</th>\n",
       "      <th>tf_idf_word_count_9</th>\n",
       "      <th>...</th>\n",
       "      <th>tf_idf_word_count_34211</th>\n",
       "      <th>tf_idf_word_count_34212</th>\n",
       "      <th>tf_idf_word_count_34213</th>\n",
       "      <th>tf_idf_word_count_34214</th>\n",
       "      <th>tf_idf_word_count_34215</th>\n",
       "      <th>tf_idf_word_count_34216</th>\n",
       "      <th>tf_idf_word_count_34217</th>\n",
       "      <th>tf_idf_word_count_34218</th>\n",
       "      <th>tf_idf_word_count_34219</th>\n",
       "      <th>tf_idf_word_count_34220</th>\n",
       "    </tr>\n",
       "  </thead>\n",
       "  <tbody>\n",
       "    <tr>\n",
       "      <th>0</th>\n",
       "      <td>0.0</td>\n",
       "      <td>0.0</td>\n",
       "      <td>0.0</td>\n",
       "      <td>0.0</td>\n",
       "      <td>0.0</td>\n",
       "      <td>0.0</td>\n",
       "      <td>0.0</td>\n",
       "      <td>0.0</td>\n",
       "      <td>0.0</td>\n",
       "      <td>0.0</td>\n",
       "      <td>...</td>\n",
       "      <td>0.0</td>\n",
       "      <td>0.0</td>\n",
       "      <td>0.0</td>\n",
       "      <td>0.0</td>\n",
       "      <td>0.0</td>\n",
       "      <td>0.0</td>\n",
       "      <td>0.0</td>\n",
       "      <td>0.0</td>\n",
       "      <td>0.0</td>\n",
       "      <td>0.0</td>\n",
       "    </tr>\n",
       "    <tr>\n",
       "      <th>1</th>\n",
       "      <td>0.0</td>\n",
       "      <td>0.0</td>\n",
       "      <td>0.0</td>\n",
       "      <td>0.0</td>\n",
       "      <td>0.0</td>\n",
       "      <td>0.0</td>\n",
       "      <td>0.0</td>\n",
       "      <td>0.0</td>\n",
       "      <td>0.0</td>\n",
       "      <td>0.0</td>\n",
       "      <td>...</td>\n",
       "      <td>0.0</td>\n",
       "      <td>0.0</td>\n",
       "      <td>0.0</td>\n",
       "      <td>0.0</td>\n",
       "      <td>0.0</td>\n",
       "      <td>0.0</td>\n",
       "      <td>0.0</td>\n",
       "      <td>0.0</td>\n",
       "      <td>0.0</td>\n",
       "      <td>0.0</td>\n",
       "    </tr>\n",
       "    <tr>\n",
       "      <th>2</th>\n",
       "      <td>0.0</td>\n",
       "      <td>0.0</td>\n",
       "      <td>0.0</td>\n",
       "      <td>0.0</td>\n",
       "      <td>0.0</td>\n",
       "      <td>0.0</td>\n",
       "      <td>0.0</td>\n",
       "      <td>0.0</td>\n",
       "      <td>0.0</td>\n",
       "      <td>0.0</td>\n",
       "      <td>...</td>\n",
       "      <td>0.0</td>\n",
       "      <td>0.0</td>\n",
       "      <td>0.0</td>\n",
       "      <td>0.0</td>\n",
       "      <td>0.0</td>\n",
       "      <td>0.0</td>\n",
       "      <td>0.0</td>\n",
       "      <td>0.0</td>\n",
       "      <td>0.0</td>\n",
       "      <td>0.0</td>\n",
       "    </tr>\n",
       "    <tr>\n",
       "      <th>3</th>\n",
       "      <td>0.0</td>\n",
       "      <td>0.0</td>\n",
       "      <td>0.0</td>\n",
       "      <td>0.0</td>\n",
       "      <td>0.0</td>\n",
       "      <td>0.0</td>\n",
       "      <td>0.0</td>\n",
       "      <td>0.0</td>\n",
       "      <td>0.0</td>\n",
       "      <td>0.0</td>\n",
       "      <td>...</td>\n",
       "      <td>0.0</td>\n",
       "      <td>0.0</td>\n",
       "      <td>0.0</td>\n",
       "      <td>0.0</td>\n",
       "      <td>0.0</td>\n",
       "      <td>0.0</td>\n",
       "      <td>0.0</td>\n",
       "      <td>0.0</td>\n",
       "      <td>0.0</td>\n",
       "      <td>0.0</td>\n",
       "    </tr>\n",
       "    <tr>\n",
       "      <th>4</th>\n",
       "      <td>0.0</td>\n",
       "      <td>0.0</td>\n",
       "      <td>0.0</td>\n",
       "      <td>0.0</td>\n",
       "      <td>0.0</td>\n",
       "      <td>0.0</td>\n",
       "      <td>0.0</td>\n",
       "      <td>0.0</td>\n",
       "      <td>0.0</td>\n",
       "      <td>0.0</td>\n",
       "      <td>...</td>\n",
       "      <td>0.0</td>\n",
       "      <td>0.0</td>\n",
       "      <td>0.0</td>\n",
       "      <td>0.0</td>\n",
       "      <td>0.0</td>\n",
       "      <td>0.0</td>\n",
       "      <td>0.0</td>\n",
       "      <td>0.0</td>\n",
       "      <td>0.0</td>\n",
       "      <td>0.0</td>\n",
       "    </tr>\n",
       "    <tr>\n",
       "      <th>...</th>\n",
       "      <td>...</td>\n",
       "      <td>...</td>\n",
       "      <td>...</td>\n",
       "      <td>...</td>\n",
       "      <td>...</td>\n",
       "      <td>...</td>\n",
       "      <td>...</td>\n",
       "      <td>...</td>\n",
       "      <td>...</td>\n",
       "      <td>...</td>\n",
       "      <td>...</td>\n",
       "      <td>...</td>\n",
       "      <td>...</td>\n",
       "      <td>...</td>\n",
       "      <td>...</td>\n",
       "      <td>...</td>\n",
       "      <td>...</td>\n",
       "      <td>...</td>\n",
       "      <td>...</td>\n",
       "      <td>...</td>\n",
       "      <td>...</td>\n",
       "    </tr>\n",
       "    <tr>\n",
       "      <th>995</th>\n",
       "      <td>0.0</td>\n",
       "      <td>0.0</td>\n",
       "      <td>0.0</td>\n",
       "      <td>0.0</td>\n",
       "      <td>0.0</td>\n",
       "      <td>0.0</td>\n",
       "      <td>0.0</td>\n",
       "      <td>0.0</td>\n",
       "      <td>0.0</td>\n",
       "      <td>0.0</td>\n",
       "      <td>...</td>\n",
       "      <td>0.0</td>\n",
       "      <td>0.0</td>\n",
       "      <td>0.0</td>\n",
       "      <td>0.0</td>\n",
       "      <td>0.0</td>\n",
       "      <td>0.0</td>\n",
       "      <td>0.0</td>\n",
       "      <td>0.0</td>\n",
       "      <td>0.0</td>\n",
       "      <td>0.0</td>\n",
       "    </tr>\n",
       "    <tr>\n",
       "      <th>996</th>\n",
       "      <td>0.0</td>\n",
       "      <td>0.0</td>\n",
       "      <td>0.0</td>\n",
       "      <td>0.0</td>\n",
       "      <td>0.0</td>\n",
       "      <td>0.0</td>\n",
       "      <td>0.0</td>\n",
       "      <td>0.0</td>\n",
       "      <td>0.0</td>\n",
       "      <td>0.0</td>\n",
       "      <td>...</td>\n",
       "      <td>0.0</td>\n",
       "      <td>0.0</td>\n",
       "      <td>0.0</td>\n",
       "      <td>0.0</td>\n",
       "      <td>0.0</td>\n",
       "      <td>0.0</td>\n",
       "      <td>0.0</td>\n",
       "      <td>0.0</td>\n",
       "      <td>0.0</td>\n",
       "      <td>0.0</td>\n",
       "    </tr>\n",
       "    <tr>\n",
       "      <th>997</th>\n",
       "      <td>0.0</td>\n",
       "      <td>0.0</td>\n",
       "      <td>0.0</td>\n",
       "      <td>0.0</td>\n",
       "      <td>0.0</td>\n",
       "      <td>0.0</td>\n",
       "      <td>0.0</td>\n",
       "      <td>0.0</td>\n",
       "      <td>0.0</td>\n",
       "      <td>0.0</td>\n",
       "      <td>...</td>\n",
       "      <td>0.0</td>\n",
       "      <td>0.0</td>\n",
       "      <td>0.0</td>\n",
       "      <td>0.0</td>\n",
       "      <td>0.0</td>\n",
       "      <td>0.0</td>\n",
       "      <td>0.0</td>\n",
       "      <td>0.0</td>\n",
       "      <td>0.0</td>\n",
       "      <td>0.0</td>\n",
       "    </tr>\n",
       "    <tr>\n",
       "      <th>998</th>\n",
       "      <td>0.0</td>\n",
       "      <td>0.0</td>\n",
       "      <td>0.0</td>\n",
       "      <td>0.0</td>\n",
       "      <td>0.0</td>\n",
       "      <td>0.0</td>\n",
       "      <td>0.0</td>\n",
       "      <td>0.0</td>\n",
       "      <td>0.0</td>\n",
       "      <td>0.0</td>\n",
       "      <td>...</td>\n",
       "      <td>0.0</td>\n",
       "      <td>0.0</td>\n",
       "      <td>0.0</td>\n",
       "      <td>0.0</td>\n",
       "      <td>0.0</td>\n",
       "      <td>0.0</td>\n",
       "      <td>0.0</td>\n",
       "      <td>0.0</td>\n",
       "      <td>0.0</td>\n",
       "      <td>0.0</td>\n",
       "    </tr>\n",
       "    <tr>\n",
       "      <th>999</th>\n",
       "      <td>0.0</td>\n",
       "      <td>0.0</td>\n",
       "      <td>0.0</td>\n",
       "      <td>0.0</td>\n",
       "      <td>0.0</td>\n",
       "      <td>0.0</td>\n",
       "      <td>0.0</td>\n",
       "      <td>0.0</td>\n",
       "      <td>0.0</td>\n",
       "      <td>0.0</td>\n",
       "      <td>...</td>\n",
       "      <td>0.0</td>\n",
       "      <td>0.0</td>\n",
       "      <td>0.0</td>\n",
       "      <td>0.0</td>\n",
       "      <td>0.0</td>\n",
       "      <td>0.0</td>\n",
       "      <td>0.0</td>\n",
       "      <td>0.0</td>\n",
       "      <td>0.0</td>\n",
       "      <td>0.0</td>\n",
       "    </tr>\n",
       "  </tbody>\n",
       "</table>\n",
       "<p>1000 rows × 34221 columns</p>\n",
       "</div>"
      ],
      "text/plain": [
       "     tf_idf_word_count_0  tf_idf_word_count_1  tf_idf_word_count_2  \\\n",
       "0                    0.0                  0.0                  0.0   \n",
       "1                    0.0                  0.0                  0.0   \n",
       "2                    0.0                  0.0                  0.0   \n",
       "3                    0.0                  0.0                  0.0   \n",
       "4                    0.0                  0.0                  0.0   \n",
       "..                   ...                  ...                  ...   \n",
       "995                  0.0                  0.0                  0.0   \n",
       "996                  0.0                  0.0                  0.0   \n",
       "997                  0.0                  0.0                  0.0   \n",
       "998                  0.0                  0.0                  0.0   \n",
       "999                  0.0                  0.0                  0.0   \n",
       "\n",
       "     tf_idf_word_count_3  tf_idf_word_count_4  tf_idf_word_count_5  \\\n",
       "0                    0.0                  0.0                  0.0   \n",
       "1                    0.0                  0.0                  0.0   \n",
       "2                    0.0                  0.0                  0.0   \n",
       "3                    0.0                  0.0                  0.0   \n",
       "4                    0.0                  0.0                  0.0   \n",
       "..                   ...                  ...                  ...   \n",
       "995                  0.0                  0.0                  0.0   \n",
       "996                  0.0                  0.0                  0.0   \n",
       "997                  0.0                  0.0                  0.0   \n",
       "998                  0.0                  0.0                  0.0   \n",
       "999                  0.0                  0.0                  0.0   \n",
       "\n",
       "     tf_idf_word_count_6  tf_idf_word_count_7  tf_idf_word_count_8  \\\n",
       "0                    0.0                  0.0                  0.0   \n",
       "1                    0.0                  0.0                  0.0   \n",
       "2                    0.0                  0.0                  0.0   \n",
       "3                    0.0                  0.0                  0.0   \n",
       "4                    0.0                  0.0                  0.0   \n",
       "..                   ...                  ...                  ...   \n",
       "995                  0.0                  0.0                  0.0   \n",
       "996                  0.0                  0.0                  0.0   \n",
       "997                  0.0                  0.0                  0.0   \n",
       "998                  0.0                  0.0                  0.0   \n",
       "999                  0.0                  0.0                  0.0   \n",
       "\n",
       "     tf_idf_word_count_9  ...  tf_idf_word_count_34211  \\\n",
       "0                    0.0  ...                      0.0   \n",
       "1                    0.0  ...                      0.0   \n",
       "2                    0.0  ...                      0.0   \n",
       "3                    0.0  ...                      0.0   \n",
       "4                    0.0  ...                      0.0   \n",
       "..                   ...  ...                      ...   \n",
       "995                  0.0  ...                      0.0   \n",
       "996                  0.0  ...                      0.0   \n",
       "997                  0.0  ...                      0.0   \n",
       "998                  0.0  ...                      0.0   \n",
       "999                  0.0  ...                      0.0   \n",
       "\n",
       "     tf_idf_word_count_34212  tf_idf_word_count_34213  \\\n",
       "0                        0.0                      0.0   \n",
       "1                        0.0                      0.0   \n",
       "2                        0.0                      0.0   \n",
       "3                        0.0                      0.0   \n",
       "4                        0.0                      0.0   \n",
       "..                       ...                      ...   \n",
       "995                      0.0                      0.0   \n",
       "996                      0.0                      0.0   \n",
       "997                      0.0                      0.0   \n",
       "998                      0.0                      0.0   \n",
       "999                      0.0                      0.0   \n",
       "\n",
       "     tf_idf_word_count_34214  tf_idf_word_count_34215  \\\n",
       "0                        0.0                      0.0   \n",
       "1                        0.0                      0.0   \n",
       "2                        0.0                      0.0   \n",
       "3                        0.0                      0.0   \n",
       "4                        0.0                      0.0   \n",
       "..                       ...                      ...   \n",
       "995                      0.0                      0.0   \n",
       "996                      0.0                      0.0   \n",
       "997                      0.0                      0.0   \n",
       "998                      0.0                      0.0   \n",
       "999                      0.0                      0.0   \n",
       "\n",
       "     tf_idf_word_count_34216  tf_idf_word_count_34217  \\\n",
       "0                        0.0                      0.0   \n",
       "1                        0.0                      0.0   \n",
       "2                        0.0                      0.0   \n",
       "3                        0.0                      0.0   \n",
       "4                        0.0                      0.0   \n",
       "..                       ...                      ...   \n",
       "995                      0.0                      0.0   \n",
       "996                      0.0                      0.0   \n",
       "997                      0.0                      0.0   \n",
       "998                      0.0                      0.0   \n",
       "999                      0.0                      0.0   \n",
       "\n",
       "     tf_idf_word_count_34218  tf_idf_word_count_34219  tf_idf_word_count_34220  \n",
       "0                        0.0                      0.0                      0.0  \n",
       "1                        0.0                      0.0                      0.0  \n",
       "2                        0.0                      0.0                      0.0  \n",
       "3                        0.0                      0.0                      0.0  \n",
       "4                        0.0                      0.0                      0.0  \n",
       "..                       ...                      ...                      ...  \n",
       "995                      0.0                      0.0                      0.0  \n",
       "996                      0.0                      0.0                      0.0  \n",
       "997                      0.0                      0.0                      0.0  \n",
       "998                      0.0                      0.0                      0.0  \n",
       "999                      0.0                      0.0                      0.0  \n",
       "\n",
       "[1000 rows x 34221 columns]"
      ]
     },
     "execution_count": 24,
     "metadata": {},
     "output_type": "execute_result"
    }
   ],
   "source": [
    "X_tfidf = wiki.loc[:, wiki.columns.str.startswith('tf_idf_word_count_')] # Use tf-idf\n",
    "X_tfidf"
   ]
  },
  {
   "cell_type": "markdown",
   "id": "863547b7",
   "metadata": {},
   "source": [
    "Integer Encode cluster names"
   ]
  },
  {
   "cell_type": "code",
   "execution_count": 25,
   "id": "5fe53b91",
   "metadata": {},
   "outputs": [
    {
     "name": "stdout",
     "output_type": "stream",
     "text": [
      "Integer encoded cluster names\n"
     ]
    }
   ],
   "source": [
    "from sklearn.preprocessing import OrdinalEncoder\n",
    "\n",
    "ord_enc = OrdinalEncoder()\n",
    "wiki['y'] = ord_enc.fit_transform(wiki[[\"name\"]])\n",
    "y = wiki['y']\n",
    "print('Integer encoded cluster names'.format(wiki[[\"name\", 'y']].head(11)))"
   ]
  },
  {
   "cell_type": "markdown",
   "id": "acae205e",
   "metadata": {},
   "source": [
    "# k-Nearest Neighbors\n",
    "\n",
    "Let's start by finding the nearest neighbors using the word count vectors to represent the articles and Euclidean distance to measure distance.  \n",
    "\n",
    "kNN Parameters\n",
    "* n_neighbors (int): Number of neighbors to use by default for kneighbors queries; default=5\n",
    "* radius (float): Range of parameter space to use by default for radius_neighbors queries; default=1.0\n",
    "* algorithm: Algorithm used to compute the nearest neighbors:\n",
    "    - default: ‘auto’ will attempt to decide the most appropriate algorithm based on the values passed to fit method\n",
    "    - ‘ball_tree’ will use BallTree\n",
    "    - ‘kd_tree’ will use KDTree\n",
    "    - ‘brute’ will use a brute-force search."
   ]
  },
  {
   "cell_type": "markdown",
   "id": "51aaa62b",
   "metadata": {},
   "source": [
    "Set NN Hyperparamters"
   ]
  },
  {
   "cell_type": "code",
   "execution_count": 26,
   "id": "1737e0e6",
   "metadata": {},
   "outputs": [],
   "source": [
    "num_neighhbors = 3 # minimium = 2\n",
    "nn_algorithm = 'auto'\n",
    "radius = 0.4"
   ]
  },
  {
   "cell_type": "markdown",
   "id": "3f6db5c9",
   "metadata": {},
   "source": [
    "Let's start by finding the nearest neighbors on a subset of the dataset. Find k nearest neighbors for first n=3 articles"
   ]
  },
  {
   "cell_type": "code",
   "execution_count": 27,
   "id": "fef119a5",
   "metadata": {},
   "outputs": [
    {
     "data": {
      "text/plain": [
       "NearestNeighbors(n_neighbors=3, radius=0.4)"
      ]
     },
     "execution_count": 27,
     "metadata": {},
     "output_type": "execute_result"
    }
   ],
   "source": [
    "from sklearn.neighbors import NearestNeighbors\n",
    "n_start_articles=0\n",
    "n_end_articles=3\n",
    "\n",
    "X_subset = X_tfidf[n_start_articles:n_end_articles]\n",
    "y_subset = np.array(y[n_start_articles:n_end_articles])\n",
    "\n",
    "nbrs = NearestNeighbors(n_neighbors=num_neighhbors, algorithm=nn_algorithm, radius=radius)\n",
    "nbrs.fit(X_tfidf)"
   ]
  },
  {
   "cell_type": "code",
   "execution_count": 28,
   "id": "4714124d",
   "metadata": {},
   "outputs": [
    {
     "name": "stdout",
     "output_type": "stream",
     "text": [
      "The nearest neighbor clusters distances are: \n",
      "[[0.00000000e+00 1.05740826e+00 1.06588686e+00]\n",
      " [0.00000000e+00 1.29945577e+00 1.33400710e+00]\n",
      " [2.58095683e-08 1.26579328e+00 1.27856702e+00]]\n",
      "The nearest neighbor clusters indexes are: \n",
      "[[  0 806 621]\n",
      " [  1  83 172]\n",
      " [  2 243   7]]\n"
     ]
    }
   ],
   "source": [
    "cluster_distances, cluster_neighbors = nbrs.kneighbors(X_subset, num_neighhbors, return_distance=True)\n",
    "print('The nearest neighbor clusters distances are: \\n{}'.format(cluster_distances))\n",
    "print('The nearest neighbor clusters indexes are: \\n{}'.format(cluster_neighbors))"
   ]
  },
  {
   "cell_type": "markdown",
   "id": "e7849ddb",
   "metadata": {},
   "source": [
    "The neighbors are the indexes of the k nearest neighbors, formated as \n",
    "- sample 1 [neighbor 1 = 0, neighbor 2 = 806, ..., neighbor num_neighhbors]\n",
    "- sample 2 [neighbor 1 = 1, neighbor 3 = 83, ..., neighbor num_neighhbors]\n",
    "- sample 3 [neighbor 2 = 2, neighbor 3 = 243, ..., neighbor num_neighhbors]\n",
    "\n",
    "Note that the closest neighbor for example is 'itself' i.e., sample 1 closest neighbor is 0, sample 2 closest neighbor is 1, and so on."
   ]
  },
  {
   "cell_type": "markdown",
   "id": "6f805dff",
   "metadata": {},
   "source": [
    "Given that we don't have labels for the dataset, let's compute the accuracy and root mean squared error (RSME) using the psuedo-labels y_subset"
   ]
  },
  {
   "cell_type": "code",
   "execution_count": 29,
   "id": "12830f6b",
   "metadata": {},
   "outputs": [
    {
     "name": "stdout",
     "output_type": "stream",
     "text": [
      "RMSE for first neighbor: 321.7167491236144\n",
      "Accuracy for second neighbor: 0.0\n",
      "RMSE for second neighbor: 309.0474612957261\n",
      "Accuracy for second neighbor: 0.0\n"
     ]
    }
   ],
   "source": [
    "from sklearn.metrics import mean_squared_error, accuracy_score\n",
    "\n",
    "print('RMSE for first neighbor: {}'.format(mean_squared_error(cluster_neighbors[:,1],y_subset, squared=False)))\n",
    "print('Accuracy for second neighbor: {}'.format(accuracy_score(cluster_neighbors[:,1],y_subset)))\n",
    "\n",
    "print('RMSE for second neighbor: {}'.format(mean_squared_error(cluster_neighbors[:,2],y_subset, squared=False)))\n",
    "print('Accuracy for second neighbor: {}'.format(accuracy_score(cluster_neighbors[:,2],y_subset)))"
   ]
  },
  {
   "cell_type": "markdown",
   "id": "ed5d7bb4",
   "metadata": {},
   "source": [
    "Now, let's use the entire dataset for nearest neighbors"
   ]
  },
  {
   "cell_type": "code",
   "execution_count": 30,
   "id": "0db4e592",
   "metadata": {},
   "outputs": [
    {
     "name": "stdout",
     "output_type": "stream",
     "text": [
      "[[  0 806 621]\n",
      " [  1  83 172]\n",
      " [  2 243   7]\n",
      " ...\n",
      " [997 570 245]\n",
      " [998 929 294]\n",
      " [999 112 691]]\n"
     ]
    }
   ],
   "source": [
    "# Train NN\n",
    "nbrs = NearestNeighbors(n_neighbors=num_neighhbors, algorithm=nn_algorithm, radius=radius)\n",
    "nbrs.fit(X_tfidf)\n",
    "\n",
    "# Print clusters\n",
    "distances, indices = nbrs.kneighbors(X_tfidf)\n",
    "print(indices)"
   ]
  },
  {
   "cell_type": "markdown",
   "id": "b7c946f7",
   "metadata": {},
   "source": [
    "Keep in mind that we don't have labels we consider all articles as their own cluster. This is not recommended in practice."
   ]
  },
  {
   "cell_type": "code",
   "execution_count": 31,
   "id": "b5ea5705",
   "metadata": {},
   "outputs": [
    {
     "name": "stdout",
     "output_type": "stream",
     "text": [
      "There nearest neigbhors of Harpdog Brown are 806      David Ellard\n",
      "83     Robert S. Gold\n",
      "243        Brett Hull\n",
      "Name: name, dtype: object\n"
     ]
    }
   ],
   "source": [
    "get_neighbor=1\n",
    "n_neighbor=[]\n",
    "for cd, cn in zip(cluster_distances,cluster_neighbors):\n",
    "    cluster_num = cn[0]\n",
    "    n_neighbor.append(cn[get_neighbor])\n",
    "print('There nearest neigbhors of {} are {}'.format(wiki['name'][cluster_num], \n",
    "                                                      wiki['name'][n_neighbor[:5]]))"
   ]
  },
  {
   "cell_type": "markdown",
   "id": "b8e73469",
   "metadata": {},
   "source": [
    "Neil Fallon (born October 25, 1971) is an American musician, best known as the lead singer and occasional rhythm guitarist and keyboardist for the rock band Clutch. \n",
    "\n",
    "Neil Fallon's Neighbors\n",
    "* David Ellard is a former professional Australian rules footballer who played for the Carlton Football Club in the Australian Football League (AFL).\n",
    "\n",
    "* Robert S. Gold is a researcher in computer technology to health education and health promotion and founding dean of the University of Maryland School of Public Health (UMD SPH).\n",
    "\n",
    "* Brett Hull is a Canadian–American former ice hockey player and general manager, and currently an executive vice president of the St. Louis Blues of the National Hockey League (NHL). \n",
    "\n",
    "* Alan Edwin Baxter was an American film and television actor.\n",
    "\n",
    "* Owen Temple is an American folk and country music songwriter and musician based in Austin, Texas."
   ]
  },
  {
   "cell_type": "code",
   "execution_count": 32,
   "id": "4f644012",
   "metadata": {},
   "outputs": [],
   "source": [
    "def get_closest_knn_neighbors(X, num_neighhbors, wiki, print_examples=5):\n",
    "    \"\"\"\n",
    "    Print nearest neighbors names\n",
    "    Input\n",
    "        - X: word encoded features\n",
    "        - num_neighbors: number of neighbors\n",
    "        - wiki: pandas dataframe containing the wikipedia datast\n",
    "        - print_examples: number of exampls to display\n",
    "    Output\n",
    "        - cluster_distances: cluster distances\n",
    "        - cluster_neighbors: cluster neighbors \n",
    "    \"\"\"\n",
    "    i=0\n",
    "    cluster_distances, cluster_neighbors = nbrs.kneighbors(X, num_neighhbors, return_distance=True)\n",
    "    for cd, cn in zip(cluster_distances,cluster_neighbors):\n",
    "        cluster_num = cn[0]\n",
    "        for neighbor, distance in zip(cn, cd):\n",
    "            if(cluster_num==neighbor):\n",
    "                continue # ignore self\n",
    "            if(i<=print_examples):\n",
    "                print('Cluster {} has nearest neighbor {} at {}'.format(wiki['name'][cluster_num],\n",
    "                                                                        wiki['name'][neighbor],\n",
    "                                                                        distance))\n",
    "            i+=1\n",
    "    return cluster_distances, cluster_neighbors"
   ]
  },
  {
   "cell_type": "code",
   "execution_count": 33,
   "id": "9ae062b5",
   "metadata": {},
   "outputs": [
    {
     "name": "stdout",
     "output_type": "stream",
     "text": [
      "Cluster Digby Morrell has nearest neighbor David Ellard at 1.0574082586123599\n",
      "Cluster Digby Morrell has nearest neighbor Rhys O'Keeffe at 1.0658868579637621\n",
      "Cluster Alfred J. Lewy has nearest neighbor Robert S. Gold at 1.2994557735548447\n",
      "Cluster Alfred J. Lewy has nearest neighbor Antonello Bonci at 1.3340070951054435\n",
      "Cluster Harpdog Brown has nearest neighbor Brett Hull at 1.265793280886146\n",
      "Cluster Harpdog Brown has nearest neighbor Trevor Ferguson at 1.2785670244049754\n"
     ]
    }
   ],
   "source": [
    "cluster_distances, cluster_neighbors = get_closest_knn_neighbors(X_tfidf,num_neighhbors,wiki)"
   ]
  },
  {
   "cell_type": "markdown",
   "id": "90fdc7ca",
   "metadata": {},
   "source": [
    "Let's explore the cluster neighbors for Digby Morrell, Alfred J. Lewy, and Harpdog Brown.\n",
    "\n",
    "Digby Morrell is a former Australian rules footballer who played with the Kangaroos and Carlton in the Australian Football League (AFL).\n",
    "* 1st neighbor: David Ellard is a former professional Australian rules footballer who played for the Carlton Football Club in the Australian Football League (AFL).\n",
    "* 2nd neighbor: Rhys O'Keeffe is a former professional Australian rules footballer with the Carlton Football Club in the Australian Football League (AFL).\n",
    "\n",
    "We can see that Digby Morrell's neighbors are also football players.\n",
    "\n",
    "Alfred J. Lewy is a full professor and Vice-Chair of the department of Psychiatry at the Oregon Health & Science University\n",
    "* 1st neighbor: Robert S. Gold is a researcher in the application of computer technology to health education and health promotion. He was the founding dean of the University of Maryland School of Public Health (UMD SPH) and is the current chair of its Department of Epidemiology and Biostatistics.\n",
    "* 2nd neighbor: Antonello Bonci is an Italian-American neurologist and a neuropsychopharmacologist specialized in the long-term effects of drug exposure on the brain. In August 2019, he became president of Global Institutes on Addictions Miami. Bonci was previously the scientific director of the National Institute on Drug Abuse and a professor at the University of California, San Francisco.\n",
    "\n",
    "We can see that Alfred J. Lewy neighbors work in education.\n",
    "\n",
    "Harpdog Brown was a Canadian singer and harmonica player who had been active in Canada's blues scene since 1982. \n",
    "* 1st neighbor: Brett Hull is a Canadian–American former ice hockey player and general manager, and currently an executive vice president of the St. Louis Blues of the National Hockey League (NHL). \n",
    "* 2nd neighbor: Trevor Ferguson is a Canadian novelist of fourteen novels and four plays. He has been called Canada's best novelist both in Books in Canada and the Toronto Star."
   ]
  },
  {
   "cell_type": "markdown",
   "id": "3008b241",
   "metadata": {},
   "source": [
    "We can see that Harpdog Brown neighbors a former football player and novelist. Let's explore what words Harpdog Brown and Brett Hull have in common."
   ]
  },
  {
   "cell_type": "code",
   "execution_count": 34,
   "id": "ac688fd8",
   "metadata": {},
   "outputs": [
    {
     "data": {
      "image/png": "[encoded data removed]",
      "text/plain": [
       "<Figure size 720x432 with 1 Axes>"
      ]
     },
     "metadata": {
      "needs_background": "light"
     },
     "output_type": "display_data"
    }
   ],
   "source": [
    "plot_tf_idf_keyword('Harpdog Brown', wiki)"
   ]
  },
  {
   "cell_type": "markdown",
   "id": "45552c91",
   "metadata": {},
   "source": [
    "Now, let's plot David Ellard TF-IDF word importance"
   ]
  },
  {
   "cell_type": "code",
   "execution_count": 35,
   "id": "5b9997c3",
   "metadata": {},
   "outputs": [
    {
     "data": {
      "image/png": "[encoded data removed]",
      "text/plain": [
       "<Figure size 720x432 with 1 Axes>"
      ]
     },
     "metadata": {
      "needs_background": "light"
     },
     "output_type": "display_data"
    }
   ],
   "source": [
    "plot_tf_idf_keyword('Brett Hull', wiki)"
   ]
  },
  {
   "cell_type": "markdown",
   "id": "027a782a",
   "metadata": {},
   "source": [
    "Note, the words that Harpdog Brown and Brett Hull have in common e.g., blues and the many examples they do not have in common. "
   ]
  },
  {
   "cell_type": "code",
   "execution_count": 36,
   "id": "08ab82bf",
   "metadata": {},
   "outputs": [
    {
     "data": {
      "text/plain": [
       "array([[0.00000000e+00, 1.05740826e+00, 1.06588686e+00],\n",
       "       [0.00000000e+00, 1.29945577e+00, 1.33400710e+00],\n",
       "       [2.58095683e-08, 1.26579328e+00, 1.27856702e+00],\n",
       "       ...,\n",
       "       [0.00000000e+00, 1.18637227e+00, 1.20044874e+00],\n",
       "       [2.98023224e-08, 1.13117236e+00, 1.20122882e+00],\n",
       "       [0.00000000e+00, 1.25130589e+00, 1.25816391e+00]])"
      ]
     },
     "execution_count": 36,
     "metadata": {},
     "output_type": "execute_result"
    }
   ],
   "source": [
    "cluster_distances"
   ]
  },
  {
   "cell_type": "markdown",
   "id": "a432b048",
   "metadata": {},
   "source": [
    "Use RMSE and accuracy to evaluate the cluster assignments for the entire dataset. Keep in mind that we don't have labels we consider all articles as their own cluster. This is not recommended in practice."
   ]
  },
  {
   "cell_type": "code",
   "execution_count": 37,
   "id": "e4adfbb0",
   "metadata": {},
   "outputs": [],
   "source": [
    "nbrs = NearestNeighbors(n_neighbors=num_neighhbors, algorithm=nn_algorithm, radius=radius)\n",
    "nbrs.fit(X_tfidf)\n",
    "\n",
    "# Print clusters\n",
    "cluster_distances, cluster_neighbors = nbrs.kneighbors(X_tfidf)"
   ]
  },
  {
   "cell_type": "code",
   "execution_count": 38,
   "id": "8d2e302d",
   "metadata": {},
   "outputs": [
    {
     "name": "stdout",
     "output_type": "stream",
     "text": [
      "RMSE for first neighbor: 408.96043696181664\n",
      "Accuracy for second neighbor: 0.001\n",
      "RMSE for second neighbor: 399.52062524981113\n",
      "Accuracy for second neighbor: 0.002\n"
     ]
    }
   ],
   "source": [
    "print('RMSE for first neighbor: {}'.format(mean_squared_error(cluster_neighbors[:,1],y, squared=False)))\n",
    "print('Accuracy for second neighbor: {}'.format(accuracy_score(cluster_neighbors[:,1],y)))\n",
    "\n",
    "print('RMSE for second neighbor: {}'.format(mean_squared_error(cluster_neighbors[:,2],y, squared=False)))\n",
    "print('Accuracy for second neighbor: {}'.format(accuracy_score(cluster_neighbors[:,2],y)))"
   ]
  },
  {
   "cell_type": "markdown",
   "id": "ce3814da",
   "metadata": {},
   "source": [
    "Think about why the RMSE is so high. Also, note that RMSE decreases with the second neighbors and the accuracy increases."
   ]
  },
  {
   "cell_type": "markdown",
   "id": "38de28c2",
   "metadata": {},
   "source": [
    "Find neighbors using word count "
   ]
  },
  {
   "cell_type": "code",
   "execution_count": 39,
   "id": "7be881dd",
   "metadata": {},
   "outputs": [
    {
     "name": "stdout",
     "output_type": "stream",
     "text": [
      "[[  0 806 621]\n",
      " [  1  83 172]\n",
      " [  2 243   7]\n",
      " ...\n",
      " [997 570 245]\n",
      " [998 929 294]\n",
      " [999 112 691]]\n"
     ]
    }
   ],
   "source": [
    "nbrs = NearestNeighbors(n_neighbors=num_neighhbors, algorithm=nn_algorithm, radius=radius)\n",
    "nbrs.fit(X_word_count)\n",
    "\n",
    "# Print clusters\n",
    "cluster_distances, cluster_neighbors = nbrs.kneighbors(X_word_count)\n",
    "print(indices)"
   ]
  },
  {
   "cell_type": "code",
   "execution_count": 40,
   "id": "3eec7767",
   "metadata": {},
   "outputs": [
    {
     "name": "stdout",
     "output_type": "stream",
     "text": [
      "Cluster Digby Morrell has nearest neighbor Shane Valenti at 21.702534414210707\n",
      "Cluster Digby Morrell has nearest neighbor Rhys O'Keeffe at 21.88606862823929\n",
      "Cluster Alfred J. Lewy has nearest neighbor Victor Clube at 22.315913604421397\n",
      "Cluster Alfred J. Lewy has nearest neighbor Bo Hampton at 22.38302928559939\n",
      "Cluster Harpdog Brown has nearest neighbor Holter Graham at 22.06807649071391\n",
      "Cluster Harpdog Brown has nearest neighbor Mammootty at 22.293496809607955\n"
     ]
    }
   ],
   "source": [
    "cluster_distances, cluster_neighbors = get_closest_knn_neighbors(X_word_count,num_neighhbors,wiki)"
   ]
  },
  {
   "cell_type": "code",
   "execution_count": 41,
   "id": "88c2fff1",
   "metadata": {},
   "outputs": [
    {
     "name": "stdout",
     "output_type": "stream",
     "text": [
      "RMSE for first neighbor: 407.4670821060273\n",
      "Accuracy for second neighbor: 0.0\n",
      "RMSE for second neighbor: 397.7025747967946\n",
      "Accuracy for second neighbor: 0.0\n"
     ]
    }
   ],
   "source": [
    "print('RMSE for first neighbor: {}'.format(mean_squared_error(cluster_neighbors[:,1],y, squared=False)))\n",
    "print('Accuracy for second neighbor: {}'.format(accuracy_score(cluster_neighbors[:,1],y)))\n",
    "\n",
    "print('RMSE for second neighbor: {}'.format(mean_squared_error(cluster_neighbors[:,2],y, squared=False)))\n",
    "print('Accuracy for second neighbor: {}'.format(accuracy_score(cluster_neighbors[:,2],y)))"
   ]
  },
  {
   "cell_type": "markdown",
   "id": "a1aae8f2",
   "metadata": {},
   "source": [
    "# k-means with text data\n",
    "\n",
    "This section on k-means Neighbors covers:\n",
    "* Cluster Wikipedia documents using k-means\n",
    "* Explore the role of random initialization on the quality of the clustering\n",
    "* Explore how results differ after changing the number of clusters\n",
    "\n",
    "k-means Parameters\n",
    "* n_neighbors (int): number of neighbors\n",
    "* n_init (‘auto’ or int): Number of times the k-means algorithm is run with different centroid seeds. The final results is the best output of n_init consecutive runs in terms of inertia. Several runs are recommended for sparse high-dimensional problems\n",
    "* init (str): callable or array-like of shape (n_clusters, n_features), default=’k-means++’. Method for initialization:\n",
    "    - ‘k-means++’ : selects initial cluster centroids using sampling based on an empirical probability distribution of the points’ contribution to the overall inertia. This technique speeds up convergence. \n",
    "    - ‘random’: choose n_clusters observations (rows) at random from data for the initial centroids.  \n",
    "* max_iter (int): Maximum number of iterations of the k-means algorithm for a single run. default=300\n",
    "* random_state (int): Determines random number generation for centroid initialization. default=None\n",
    "* algorithm (str): algorithm used to compute the k-means. The classical EM-style algorithm is \"lloyd\". However it’s more memory intensive due to the allocation of an extra array of shape (n_samples, n_clusters). default=”lloyd” "
   ]
  },
  {
   "cell_type": "markdown",
   "id": "9cda6dab",
   "metadata": {},
   "source": [
    "Initialize k-means parameters"
   ]
  },
  {
   "cell_type": "code",
   "execution_count": 42,
   "id": "5fa80821",
   "metadata": {},
   "outputs": [],
   "source": [
    "n_neighbors=3\n",
    "algorithm=''\n",
    "random_state=42\n",
    "init='random'\n",
    "max_iter=300"
   ]
  },
  {
   "cell_type": "markdown",
   "id": "daa31283",
   "metadata": {},
   "source": [
    "Train k-means"
   ]
  },
  {
   "cell_type": "code",
   "execution_count": 43,
   "id": "4fde9712",
   "metadata": {},
   "outputs": [],
   "source": [
    "from sklearn.cluster import KMeans\n",
    "kmeans = KMeans(n_clusters=n_neighbors, random_state=random_state, init=init).fit(X_tfidf)"
   ]
  },
  {
   "cell_type": "markdown",
   "id": "985bed14",
   "metadata": {},
   "source": [
    "Inspect cluster assignments for first 10 examples"
   ]
  },
  {
   "cell_type": "code",
   "execution_count": 44,
   "id": "27a8706f",
   "metadata": {},
   "outputs": [
    {
     "name": "stdout",
     "output_type": "stream",
     "text": [
      "[1 0 0 0 0 0 0 0 0 2]\n"
     ]
    }
   ],
   "source": [
    "y_pred = kmeans.labels_\n",
    "print(y_pred[:10])"
   ]
  },
  {
   "cell_type": "markdown",
   "id": "ecee1364",
   "metadata": {},
   "source": [
    "Predict using cluster centers for first 10 examples (output should be the same as above)"
   ]
  },
  {
   "cell_type": "code",
   "execution_count": 45,
   "id": "a5a042ae",
   "metadata": {},
   "outputs": [
    {
     "data": {
      "text/plain": [
       "array([1, 0, 0, 0, 0, 0, 0, 0, 0, 2], dtype=int32)"
      ]
     },
     "execution_count": 45,
     "metadata": {},
     "output_type": "execute_result"
    }
   ],
   "source": [
    "kmeans.predict(X_tfidf[:10])"
   ]
  },
  {
   "cell_type": "markdown",
   "id": "1ffb71b3",
   "metadata": {},
   "source": [
    "Inspect cluster centers"
   ]
  },
  {
   "cell_type": "code",
   "execution_count": 46,
   "id": "8d9fc145",
   "metadata": {},
   "outputs": [
    {
     "data": {
      "text/plain": [
       "array([[-6.09863722e-20,  1.49077799e-19,  9.66784827e-05, ...,\n",
       "         1.25359876e-04,  1.29090028e-04,  7.93843432e-04],\n",
       "       [ 2.60115313e-04,  4.74338450e-20,  2.71050543e-20, ...,\n",
       "        -2.71050543e-20,  5.42101086e-20, -2.16840434e-19],\n",
       "       [-3.38813179e-20,  3.24407535e-04, -1.35525272e-20, ...,\n",
       "        -6.77626358e-20,  4.06575815e-20,  0.00000000e+00]])"
      ]
     },
     "execution_count": 46,
     "metadata": {},
     "output_type": "execute_result"
    }
   ],
   "source": [
    "kmeans.cluster_centers_[:10]"
   ]
  },
  {
   "cell_type": "markdown",
   "id": "5edb3404",
   "metadata": {},
   "source": [
    "Evaluate k-means in terms of sum-of-squares, silhouette scores, davies bouldin scores, and calinski harabasz scores\n",
    "\n",
    "The most common ways of measuring the performance of clustering models are to either measure the distinctiveness or the similarity between the created groups. Given this, there are three common metrics to use, these are:\n",
    "\n",
    "* Silhouette Index: The Silhouette score is the measure of how similar a data point is to its own cluster as compared to other clusters. A higher Silhouette score value indicates that the data point is better matched to its own cluster and badly matched to other clusters. The best score value is 1 and -1 is the worst. Silhouette coefficient for a sample is defined as: Where a is the average intra-cluster distance, and b is the average nearest-cluster distance. The Silhouette score is the mean of all such samples.\n",
    "\n",
    "\n",
    "* Davies Bouldin Index (DBI): DBI stands for Davies Bouldin Index. It is an internal evaluation method for evaluating clustering algorithms. Lower the value of this metric better is the clustering algorithm. The evaluation of how well the clustering is done by using features inherent to the dataset. Where k is the number of clusters. ∆Ci is the distance within the cluster Ci. δ(Ci, Cj) is the distance between the clusters Ci and Cj.\n",
    "\n",
    "\n",
    "* Calinski and Harabasz (CHS): CHS stands for Calinski and Harabasz Score (also known as Variance Ratio Criterion). This metric is the ratio of intra-cluster dispersion and inter-cluster dispersion. Similar to Silhouette Score, the higher the score the more well-defined the clusters are. This score has no bound, meaning that there is no ‘acceptable’ or ‘good’ value."
   ]
  },
  {
   "cell_type": "code",
   "execution_count": 47,
   "id": "48f8aac5",
   "metadata": {},
   "outputs": [],
   "source": [
    "from sklearn.metrics import silhouette_score, davies_bouldin_score,calinski_harabasz_score\n",
    "\n",
    "def evaluate_k_means(X, max_iter=200, n_init=10, max_k=30):\n",
    "    \"\"\"\n",
    "    Evaluate k-means on X data with increasing number of cluster centers\n",
    "    \n",
    "    Input\n",
    "        - X: input word encoded features\n",
    "        - max_iter: maximum iterations to run k-means\n",
    "        - n_init: number of times the k-means algorithm is run with different centroid seeds\n",
    "        - max_k: maximum k value for k-means\n",
    "    Output\n",
    "        - results: dictionary with results\n",
    "        - K: number of data points\n",
    "    \"\"\"\n",
    "    results={}\n",
    "    sum_of_squared_distances = []\n",
    "    silhouette_scores = []\n",
    "    davies_bouldin_scores = []\n",
    "    calinski_harabasz_scores = []\n",
    "\n",
    "    K = range(2,max_k)\n",
    "\n",
    "    for k in K:\n",
    "        km = KMeans(n_clusters=k, max_iter=max_iter, n_init=n_init)\n",
    "        km = km.fit(X)\n",
    "\n",
    "        y_pred = km.labels_\n",
    "        silhouette_scores.append(silhouette_score(X, y_pred))\n",
    "        davies_bouldin_scores.append(davies_bouldin_score(X, y_pred))\n",
    "        calinski_harabasz_scores.append(calinski_harabasz_score(X, y_pred))\n",
    "        sum_of_squared_distances.append(km.inertia_) # Sum of squared distances of samples to their closest cluster center\n",
    "\n",
    "    results['sum_of_squared_distances'] = sum_of_squared_distances\n",
    "    results['silhouette_scores'] = silhouette_scores\n",
    "    results['davies_bouldin_scores'] = davies_bouldin_scores\n",
    "    results['calinski_harabasz_scores'] = calinski_harabasz_scores\n",
    "    return results, K"
   ]
  },
  {
   "cell_type": "code",
   "execution_count": 48,
   "id": "9b5107b2",
   "metadata": {},
   "outputs": [],
   "source": [
    "kmeans_results, K = evaluate_k_means(X_tfidf, max_iter=200, n_init=10, max_k=30)"
   ]
  },
  {
   "cell_type": "code",
   "execution_count": 49,
   "id": "1aba694a",
   "metadata": {},
   "outputs": [],
   "source": [
    "import matplotlib.pyplot as plt\n",
    "\n",
    "def plot_figures(data, xtitle, ytitle, K):\n",
    "    \"\"\"\n",
    "    Plot figures using input data\n",
    "    Input\n",
    "        - data: data to plot (list or array)\n",
    "        - xtitle: x-axis title (string)\n",
    "        - ytitle: y-axis title (string)\n",
    "        - K: number of observation\n",
    "    Output\n",
    "        - None; show figure\n",
    "    \"\"\"\n",
    "    plt.plot(K, data, 'bx-')\n",
    "    plt.xlabel('k')\n",
    "    plt.ylabel(ytitle)\n",
    "    plt.title(xtitle)\n",
    "    plt.show()"
   ]
  },
  {
   "cell_type": "code",
   "execution_count": 50,
   "id": "b70e5fef",
   "metadata": {},
   "outputs": [
    {
     "data": {
      "image/png": "[encoded data removed]",
      "text/plain": [
       "<Figure size 432x288 with 1 Axes>"
      ]
     },
     "metadata": {
      "needs_background": "light"
     },
     "output_type": "display_data"
    },
    {
     "data": {
      "image/png": "[encoded data removed]",
      "text/plain": [
       "<Figure size 432x288 with 1 Axes>"
      ]
     },
     "metadata": {
      "needs_background": "light"
     },
     "output_type": "display_data"
    },
    {
     "data": {
      "image/png": "[encoded data removed]",
      "text/plain": [
       "<Figure size 432x288 with 1 Axes>"
      ]
     },
     "metadata": {
      "needs_background": "light"
     },
     "output_type": "display_data"
    },
    {
     "data": {
      "image/png": "[encoded data removed]",
      "text/plain": [
       "<Figure size 432x288 with 1 Axes>"
      ]
     },
     "metadata": {
      "needs_background": "light"
     },
     "output_type": "display_data"
    }
   ],
   "source": [
    "plot_figures(kmeans_results['sum_of_squared_distances'], 'Optimal k Search', 'Sum-of-Squared Distances', K)\n",
    "plot_figures(kmeans_results['silhouette_scores'], 'Optimal k Search', 'Silhouette Scores', K)\n",
    "plot_figures(kmeans_results['davies_bouldin_scores'], 'Optimal k Search', 'Davies Bouldin Scores', K)\n",
    "plot_figures(kmeans_results['calinski_harabasz_scores'], 'Optimal k Search', 'Calinski Harabasz Scores', K)"
   ]
  },
  {
   "cell_type": "markdown",
   "id": "fa3c0d4d",
   "metadata": {},
   "source": [
    "Note, that the SoS and Calinski have stable, smooth curves while Silhoutte and Davies scores show a downward trend, but instability in terms of monotonically decreasing. "
   ]
  },
  {
   "cell_type": "markdown",
   "id": "66179a51",
   "metadata": {},
   "source": [
    "## Impact of Initization method for k-means\n",
    "\n",
    "One effective way to counter this tendency is to use **k-means++** to provide a smart initialization. This method tries to spread out the initial set of centroids so that they are not too close together. It is known to improve the quality of local optima and lower average runtime."
   ]
  },
  {
   "cell_type": "code",
   "execution_count": 51,
   "id": "f84773a5",
   "metadata": {},
   "outputs": [],
   "source": [
    "def evaluate_k_means_initialization(X, init, n_clusters=3, max_iter=200, n_init=10):\n",
    "    \"\"\"\n",
    "    The function runs k-means with increasing max iterations using fixed number of clusters\n",
    "    Input\n",
    "        - X: input word encoded features\n",
    "        - n_clusters: number of clusters\n",
    "        - max_iter: maximum iterations to run k-means\n",
    "        - n_init: number of times the k-means algorithm is run with different centroid seeds\n",
    "    Output\n",
    "        - results: dictionary containing the results in sum_of_squared_distances, silhouette_scores, davies_bouldin_scores, calinski_harabasz_scores\n",
    "    \"\"\"\n",
    "    results={}\n",
    "    sum_of_squared_distances = []\n",
    "    silhouette_scores = []\n",
    "    davies_bouldin_scores = []\n",
    "    calinski_harabasz_scores = []\n",
    "\n",
    "    max_iterations = range(1,max_iter,10)\n",
    "    \n",
    "    for mi in max_iterations:\n",
    "        km = KMeans(n_clusters=n_clusters, max_iter=mi, n_init=n_init, init=init)\n",
    "        km = km.fit(X)\n",
    "\n",
    "        y_pred = km.labels_\n",
    "        silhouette_scores.append(silhouette_score(X, y_pred))\n",
    "        davies_bouldin_scores.append(davies_bouldin_score(X, y_pred))\n",
    "        calinski_harabasz_scores.append(calinski_harabasz_score(X, y_pred))\n",
    "        sum_of_squared_distances.append(km.inertia_) # Sum of squared distances of samples to their closest cluster center\n",
    "\n",
    "    results['sum_of_squared_distances'] = sum_of_squared_distances\n",
    "    results['silhouette_scores'] = silhouette_scores\n",
    "    results['davies_bouldin_scores'] = davies_bouldin_scores\n",
    "    results['calinski_harabasz_scores'] = calinski_harabasz_scores\n",
    "    return results, max_iterations"
   ]
  },
  {
   "cell_type": "markdown",
   "id": "7c241411",
   "metadata": {},
   "source": [
    "Evaluation k-means: To select the best model, we will need a way to evaluate a K-Mean model's performance. Unfortunately, clustering is an unsupervised task, so we do not have the targets. But at least we can measure the distance between each instance and its centroid. This is the idea behind the inertia metric:"
   ]
  },
  {
   "cell_type": "markdown",
   "id": "3d9aa64e",
   "metadata": {},
   "source": [
    "Let's now rerun k-means with 5 clusters using the same set of seeds, but using random and k-means++ to initialize the algorithm.\n",
    "\n",
    "This may take several minutes to run."
   ]
  },
  {
   "cell_type": "code",
   "execution_count": null,
   "id": "6960e7bf",
   "metadata": {},
   "outputs": [],
   "source": [
    "kmeans_random_initialization, max_iterations = evaluate_k_means_initialization(X_tfidf, 'random', n_clusters=5, max_iter=600, n_init=10)"
   ]
  },
  {
   "cell_type": "code",
   "execution_count": null,
   "id": "a6f56244",
   "metadata": {},
   "outputs": [],
   "source": [
    "kmeans_plus_initialization, max_iterations = evaluate_k_means_initialization(X_tfidf, 'k-means++', n_clusters=5, max_iter=600, n_init=10)"
   ]
  },
  {
   "cell_type": "markdown",
   "id": "657d8b1f",
   "metadata": {},
   "source": [
    "Sum-of-Squared Distances Comparison between random and kmeans++"
   ]
  },
  {
   "cell_type": "code",
   "execution_count": null,
   "id": "f86e8ac4",
   "metadata": {},
   "outputs": [],
   "source": [
    "plot_figures(kmeans_random_initialization['sum_of_squared_distances'], 'Iterations','Sum-of-Squared Distances', max_iterations)\n",
    "plot_figures(kmeans_plus_initialization['sum_of_squared_distances'], 'Iterations','Sum-of-Squared Distances', max_iterations)"
   ]
  },
  {
   "cell_type": "markdown",
   "id": "c431cbed",
   "metadata": {},
   "source": [
    "Silhouette Score Comparison between random and kmeans++"
   ]
  },
  {
   "cell_type": "code",
   "execution_count": null,
   "id": "8caed89a",
   "metadata": {},
   "outputs": [],
   "source": [
    "#plot_figures(kmeans_random_initialization['silhouette_scores'], 'Iterations','Silhouette Scores', max_iterations)\n",
    "#plot_figures(kmeans_plus_initialization['silhouette_scores'], 'Iterations','Silhouette Scores', max_iterations)"
   ]
  },
  {
   "cell_type": "markdown",
   "id": "8dea3287",
   "metadata": {},
   "source": [
    "Davies Bouldin Score Comparison between random and kmeans++"
   ]
  },
  {
   "cell_type": "code",
   "execution_count": null,
   "id": "ef2371e6",
   "metadata": {},
   "outputs": [],
   "source": [
    "#plot_figures(kmeans_random_initialization['davies_bouldin_scores'], 'Iterations','Davies Bouldin Scores', max_iterations)\n",
    "#plot_figures(kmeans_plus_initialization['davies_bouldin_scores'], 'Iterations','Davies Bouldin Scores', max_iterations)"
   ]
  },
  {
   "cell_type": "markdown",
   "id": "c6652945",
   "metadata": {},
   "source": [
    "Calinski Harabasz Score Comparison between random and kmeans++"
   ]
  },
  {
   "cell_type": "code",
   "execution_count": null,
   "id": "546c03fa",
   "metadata": {},
   "outputs": [],
   "source": [
    "#plot_figures(kmeans_random_initialization['calinski_harabasz_scores'], 'Iterations','Calinski Harabasz Scores', max_iterations)\n",
    "#plot_figures(kmeans_plus_initialization['calinski_harabasz_scores'], 'Iterations','Calinski Harabasz Scores', max_iterations)"
   ]
  },
  {
   "cell_type": "markdown",
   "id": "a74f1f39",
   "metadata": {},
   "source": [
    "A few things to notice from the box plot:\n",
    "* On average, k-means++ produces a better clustering than Random initialization.\n",
    "* Variation in clustering quality is smaller for k-means++."
   ]
  },
  {
   "cell_type": "markdown",
   "id": "d4642de8",
   "metadata": {},
   "source": [
    "**Takeaways:**\n",
    "*A high value of K encourages pure clusters, but we cannot keep increasing K. For large enough K, related documents end up going to different clusters.*\n",
    "\n",
    "*There is no golden rule for choosing K. It all depends on the particular application and domain we are in.*\n",
    "\n",
    "*Keep in mind though that tiny clusters aren't necessarily bad. A tiny cluster of documents that really look like each others is definitely preferable to a medium-sized cluster of documents with mixed content. However, having too few articles in a cluster may cause overfitting by reading too much into a limited pool of training data.*"
   ]
  },
  {
   "cell_type": "code",
   "execution_count": null,
   "id": "276f7144",
   "metadata": {},
   "outputs": [],
   "source": []
  }
 ],
 "metadata": {
  "kernelspec": {
   "display_name": "Python 3",
   "language": "python",
   "name": "python3"
  },
  "language_info": {
   "codemirror_mode": {
    "name": "ipython",
    "version": 3
   },
   "file_extension": ".py",
   "mimetype": "text/x-python",
   "name": "python",
   "nbconvert_exporter": "python",
   "pygments_lexer": "ipython3",
   "version": "3.8.8"
  }
 },
 "nbformat": 4,
 "nbformat_minor": 5
}
